{
  "nbformat": 4,
  "nbformat_minor": 0,
  "metadata": {
    "colab": {
      "name": "Copy of digits_classification.ipynb",
      "version": "0.3.2",
      "provenance": []
    },
    "kernelspec": {
      "name": "python3",
      "display_name": "Python 3"
    },
    "accelerator": "GPU"
  },
  "cells": [
    {
      "metadata": {
        "slideshow": {
          "slide_type": "slide"
        },
        "id": "3p1BU668Ow7v",
        "colab_type": "text"
      },
      "cell_type": "markdown",
      "source": [
        "# MNIST digits classification with TensorFlow"
      ]
    },
    {
      "metadata": {
        "id": "xoyH3RDhOw74",
        "colab_type": "text"
      },
      "cell_type": "markdown",
      "source": [
        "<img src=\"https://github.com/hse-aml/intro-to-dl/blob/master/week2/v2/images/mnist_sample.png?raw=1\" style=\"width:30%\">"
      ]
    },
    {
      "metadata": {
        "id": "PHwNMg6FO-P2",
        "colab_type": "code",
        "colab": {
          "base_uri": "https://localhost:8080/",
          "height": 323
        },
        "outputId": "ff493ba7-d52b-413e-eabe-a8d11bc56182"
      },
      "cell_type": "code",
      "source": [
        "! shred -u setup_google_colab.py\n",
        "! wget https://raw.githubusercontent.com/hse-aml/intro-to-dl/master/setup_google_colab.py -O setup_google_colab.py\n",
        "import setup_google_colab\n",
        "# please, uncomment the week you're working on\n",
        "# setup_google_colab.setup_week1()\n",
        "setup_google_colab.setup_week2()\n",
        "# setup_google_colab.setup_week3()\n",
        "# setup_google_colab.setup_week4()\n",
        "# setup_google_colab.setup_week5()\n",
        "# setup_google_colab.setup_week6()\n",
        "\n",
        "# If you're using the old version of the course (check a path of notebook on Coursera, you'll see v1 or v2),\n",
        "# use setup_week2_old()."
      ],
      "execution_count": 2,
      "outputs": [
        {
          "output_type": "stream",
          "text": [
            "shred: setup_google_colab.py: failed to open for writing: No such file or directory\n",
            "--2018-12-24 22:00:47--  https://raw.githubusercontent.com/hse-aml/intro-to-dl/master/setup_google_colab.py\n",
            "Resolving raw.githubusercontent.com (raw.githubusercontent.com)... 151.101.0.133, 151.101.64.133, 151.101.128.133, ...\n",
            "Connecting to raw.githubusercontent.com (raw.githubusercontent.com)|151.101.0.133|:443... connected.\n",
            "HTTP request sent, awaiting response... 200 OK\n",
            "Length: 3792 (3.7K) [text/plain]\n",
            "Saving to: ‘setup_google_colab.py’\n",
            "\n",
            "setup_google_colab. 100%[===================>]   3.70K  --.-KB/s    in 0s      \n",
            "\n",
            "2018-12-24 22:00:48 (67.9 MB/s) - ‘setup_google_colab.py’ saved [3792/3792]\n",
            "\n",
            "**************************************************\n",
            "inception_v3_weights_tf_dim_ordering_tf_kernels_notop.h5\n",
            "**************************************************\n",
            "cifar-10-batches-py.tar.gz\n",
            "**************************************************\n",
            "mnist.npz\n"
          ],
          "name": "stdout"
        }
      ]
    },
    {
      "metadata": {
        "id": "DsYgj9jpOw75",
        "colab_type": "code",
        "colab": {
          "base_uri": "https://localhost:8080/",
          "height": 34
        },
        "outputId": "906c4804-85a7-4a3d-b851-17d9d8ab2360"
      },
      "cell_type": "code",
      "source": [
        "import numpy as np\n",
        "from sklearn.metrics import accuracy_score\n",
        "from matplotlib import pyplot as plt\n",
        "%matplotlib inline\n",
        "import tensorflow as tf\n",
        "print(\"We're using TF\", tf.__version__)\n",
        "\n",
        "import sys\n",
        "sys.path.append(\"../..\")\n",
        "import grading\n",
        "\n",
        "import matplotlib_utils\n",
        "from importlib import reload\n",
        "reload(matplotlib_utils)\n",
        "\n",
        "import grading_utils\n",
        "reload(grading_utils)\n",
        "\n",
        "import keras_utils\n",
        "from keras_utils import reset_tf_session"
      ],
      "execution_count": 4,
      "outputs": [
        {
          "output_type": "stream",
          "text": [
            "We're using TF 1.12.0\n"
          ],
          "name": "stdout"
        }
      ]
    },
    {
      "metadata": {
        "id": "NA7l_b-2Ow8E",
        "colab_type": "text"
      },
      "cell_type": "markdown",
      "source": [
        "# Fill in your Coursera token and email\n",
        "To successfully submit your answers to our grader, please fill in your Coursera submission token and email"
      ]
    },
    {
      "metadata": {
        "id": "SvxidfhpOw8H",
        "colab_type": "code",
        "colab": {}
      },
      "cell_type": "code",
      "source": [
        "grader = grading.Grader(assignment_key=\"XtD7ho3TEeiHQBLWejjYAA\", \n",
        "                        all_parts=[\"9XaAS\", \"vmogZ\", \"RMv95\", \"i8bgs\", \"rE763\"])"
      ],
      "execution_count": 0,
      "outputs": []
    },
    {
      "metadata": {
        "id": "0mspYoNsOw8O",
        "colab_type": "code",
        "colab": {}
      },
      "cell_type": "code",
      "source": [
        "# token expires every 30 min\n",
        "COURSERA_TOKEN = \"1NBdD2OCV46xVvaG\"\n",
        "COURSERA_EMAIL = \"eng_walid_ashraf@hotmail.com\""
      ],
      "execution_count": 0,
      "outputs": []
    },
    {
      "metadata": {
        "id": "u8x6Xxx5Ow8V",
        "colab_type": "text"
      },
      "cell_type": "markdown",
      "source": [
        "# Look at the data\n",
        "\n",
        "In this task we have 50000 28x28 images of digits from 0 to 9.\n",
        "We will train a classifier on this data."
      ]
    },
    {
      "metadata": {
        "id": "Hc2d10lrOw8Y",
        "colab_type": "code",
        "colab": {}
      },
      "cell_type": "code",
      "source": [
        "import preprocessed_mnist\n",
        "X_train, y_train, X_val, y_val, X_test, y_test = preprocessed_mnist.load_dataset()"
      ],
      "execution_count": 0,
      "outputs": []
    },
    {
      "metadata": {
        "id": "wpOASS43Ow8f",
        "colab_type": "code",
        "colab": {
          "base_uri": "https://localhost:8080/",
          "height": 683
        },
        "outputId": "4557f4fb-c41c-42ef-b73e-ebb750e1f857"
      },
      "cell_type": "code",
      "source": [
        "# X contains rgb values divided by 255\n",
        "print(\"X_train [shape %s] sample patch:\\n\" % (str(X_train.shape)), X_train[1, 15:20, 5:10])\n",
        "print(\"A closeup of a sample patch:\")\n",
        "plt.imshow(X_train[1, 15:20, 5:10], cmap=\"Greys\")\n",
        "plt.show()\n",
        "print(\"And the whole sample:\")\n",
        "plt.imshow(X_train[1], cmap=\"Greys\")\n",
        "plt.show()\n",
        "print(\"y_train [shape %s] 10 samples:\\n\" % (str(y_train.shape)), y_train[:10])"
      ],
      "execution_count": 81,
      "outputs": [
        {
          "output_type": "stream",
          "text": [
            "X_train [shape (50000, 28, 28)] sample patch:\n",
            " [[0.         0.29803922 0.96470588 0.98823529 0.43921569]\n",
            " [0.         0.33333333 0.98823529 0.90196078 0.09803922]\n",
            " [0.         0.33333333 0.98823529 0.8745098  0.        ]\n",
            " [0.         0.33333333 0.98823529 0.56862745 0.        ]\n",
            " [0.         0.3372549  0.99215686 0.88235294 0.        ]]\n",
            "A closeup of a sample patch:\n"
          ],
          "name": "stdout"
        },
        {
          "output_type": "display_data",
          "data": {
            "image/png": "[encoded data removed]",
            "text/plain": [
              "<matplotlib.figure.Figure at 0x7f7aecda6f98>"
            ]
          },
          "metadata": {
            "tags": []
          }
        },
        {
          "output_type": "stream",
          "text": [
            "And the whole sample:\n"
          ],
          "name": "stdout"
        },
        {
          "output_type": "display_data",
          "data": {
            "image/png": "[encoded data removed]",
            "text/plain": [
              "<matplotlib.figure.Figure at 0x7f7aecda6fd0>"
            ]
          },
          "metadata": {
            "tags": []
          }
        },
        {
          "output_type": "stream",
          "text": [
            "y_train [shape (50000,)] 10 samples:\n",
            " [5 0 4 1 9 2 1 3 1 4]\n"
          ],
          "name": "stdout"
        }
      ]
    },
    {
      "metadata": {
        "id": "loRPs3xeOw8n",
        "colab_type": "text"
      },
      "cell_type": "markdown",
      "source": [
        "# Linear model\n",
        "\n",
        "Your task is to train a linear classifier $\\vec{x} \\rightarrow y$ with SGD using TensorFlow.\n",
        "\n",
        "You will need to calculate a logit (a linear transformation) $z_k$ for each class: \n",
        "$$z_k = \\vec{x} \\cdot \\vec{w_k} + b_k \\quad k = 0..9$$\n",
        "\n",
        "And transform logits $z_k$ to valid probabilities $p_k$ with softmax: \n",
        "$$p_k = \\frac{e^{z_k}}{\\sum_{i=0}^{9}{e^{z_i}}} \\quad k = 0..9$$\n",
        "\n",
        "We will use a cross-entropy loss to train our multi-class classifier:\n",
        "$$\\text{cross-entropy}(y, p) = -\\sum_{k=0}^{9}{\\log(p_k)[y = k]}$$ \n",
        "\n",
        "where \n",
        "$$\n",
        "[x]=\\begin{cases}\n",
        "       1, \\quad \\text{if $x$ is true} \\\\\n",
        "       0, \\quad \\text{otherwise}\n",
        "    \\end{cases}\n",
        "$$\n",
        "\n",
        "Cross-entropy minimization pushes $p_k$ close to 1 when $y = k$, which is what we want.\n",
        "\n",
        "Here's the plan:\n",
        "* Flatten the images (28x28 -> 784) with `X_train.reshape((X_train.shape[0], -1))` to simplify our linear model implementation\n",
        "* Use a matrix placeholder for flattened `X_train`\n",
        "* Convert `y_train` to one-hot encoded vectors that are needed for cross-entropy\n",
        "* Use a shared variable `W` for all weights (a column $\\vec{w_k}$ per class) and `b` for all biases.\n",
        "* Aim for ~0.93 validation accuracy"
      ]
    },
    {
      "metadata": {
        "id": "AkRPtTSiOw8r",
        "colab_type": "code",
        "colab": {
          "base_uri": "https://localhost:8080/",
          "height": 51
        },
        "outputId": "f66fff72-2154-44b9-cc7d-1eb5800111ef"
      },
      "cell_type": "code",
      "source": [
        "X_train_flat = X_train.reshape((X_train.shape[0], -1))\n",
        "print(X_train_flat.shape)\n",
        "\n",
        "X_val_flat = X_val.reshape((X_val.shape[0], -1))\n",
        "print(X_val_flat.shape)"
      ],
      "execution_count": 82,
      "outputs": [
        {
          "output_type": "stream",
          "text": [
            "(50000, 784)\n",
            "(10000, 784)\n"
          ],
          "name": "stdout"
        }
      ]
    },
    {
      "metadata": {
        "id": "GTfyT5FyOw8z",
        "colab_type": "code",
        "colab": {
          "base_uri": "https://localhost:8080/",
          "height": 85
        },
        "outputId": "83d95a07-4127-42a0-da35-2ee292c4c17a"
      },
      "cell_type": "code",
      "source": [
        "import keras\n",
        "\n",
        "y_train_oh = keras.utils.to_categorical(y_train, 10)\n",
        "y_val_oh = keras.utils.to_categorical(y_val, 10)\n",
        "\n",
        "print(y_train_oh.shape)\n",
        "print(y_train_oh[:3], y_train[:3])"
      ],
      "execution_count": 83,
      "outputs": [
        {
          "output_type": "stream",
          "text": [
            "(50000, 10)\n",
            "[[0. 0. 0. 0. 0. 1. 0. 0. 0. 0.]\n",
            " [1. 0. 0. 0. 0. 0. 0. 0. 0. 0.]\n",
            " [0. 0. 0. 0. 1. 0. 0. 0. 0. 0.]] [5 0 4]\n"
          ],
          "name": "stdout"
        }
      ]
    },
    {
      "metadata": {
        "id": "n4t566NdOw87",
        "colab_type": "code",
        "colab": {}
      },
      "cell_type": "code",
      "source": [
        "# run this again if you remake your graph\n",
        "s = reset_tf_session()"
      ],
      "execution_count": 0,
      "outputs": []
    },
    {
      "metadata": {
        "id": "k8zqkHgnOw9E",
        "colab_type": "code",
        "colab": {}
      },
      "cell_type": "code",
      "source": [
        "# Model parameters: W and b\n",
        "W = tf.Variable(tf.random_normal(shape=[784, 10], stddev=0.01), name=\"weights\")\n",
        "#tf.get_variable(\"w\",shape=(784,10), dtype=tf.float64)### YOUR CODE HERE ### tf.get_variable(...) with shape[0] = 784\n",
        "b =  tf.Variable(tf.zeros([1, 10]), name=\"bias\")\n",
        "#tf.get_variable(\"b\",shape=(1,10), dtype=tf.float64)### YOUR CODE HERE ### tf.get_variable(...)"
      ],
      "execution_count": 0,
      "outputs": []
    },
    {
      "metadata": {
        "id": "czmtCWd4Ow9R",
        "colab_type": "code",
        "colab": {}
      },
      "cell_type": "code",
      "source": [
        "# Placeholders for the input data\n",
        "input_X = tf.placeholder('float32', shape=[None,784])### YOUR CODE HERE ### tf.placeholder(...) for flat X with shape[0] = None for any batch size\n",
        "input_y = tf.placeholder('float32', shape=[None,10])### YOUR CODE HERE ### tf.placeholder(...) for one-hot encoded true labels"
      ],
      "execution_count": 0,
      "outputs": []
    },
    {
      "metadata": {
        "id": "7UmbXtcpOw9W",
        "colab_type": "code",
        "colab": {}
      },
      "cell_type": "code",
      "source": [
        "# Compute predictions\n",
        "logits = tf.matmul(input_X, W) + b### YOUR CODE HERE ### logits for input_X, resulting shape should be [input_X.shape[0], 10]\n",
        "probas = tf.nn.softmax(logits)### YOUR CODE HERE ### apply tf.nn.softmax to logits\n",
        "classes = tf.argmax(probas,axis=1)### YOUR CODE HERE ### apply tf.argmax to find a class index with highest probability\n",
        "\n",
        "# Loss should be a scalar number: average loss over all the objects with tf.reduce_mean().\n",
        "# Use tf.nn.softmax_cross_entropy_with_logits on top of one-hot encoded input_y and logits.\n",
        "# It is identical to calculating cross-entropy on top of probas, but is more numerically friendly (read the docs).\n",
        "loss = tf.reduce_mean(tf.nn.softmax_cross_entropy_with_logits_v2(labels=input_y,logits=logits))### YOUR CODE HERE ### cross-entropy loss\n",
        "\n",
        "# Use a default tf.train.AdamOptimizer to get an SGD step\n",
        "step = tf.train.GradientDescentOptimizer(0.1).minimize(loss)### YOUR CODE HERE ### optimizer step that minimizes the loss"
      ],
      "execution_count": 0,
      "outputs": []
    },
    {
      "metadata": {
        "scrolled": false,
        "id": "CcPcX_WhOw9e",
        "colab_type": "code",
        "colab": {
          "base_uri": "https://localhost:8080/",
          "height": 309
        },
        "outputId": "8a0c545c-e043-4749-d677-a1b0040d1983"
      },
      "cell_type": "code",
      "source": [
        "s.run(tf.global_variables_initializer())\n",
        "\n",
        "BATCH_SIZE = 512\n",
        "EPOCHS = 40\n",
        "\n",
        "# for logging the progress right here in Jupyter (for those who don't have TensorBoard)\n",
        "simpleTrainingCurves = matplotlib_utils.SimpleTrainingCurves(\"cross-entropy\", \"accuracy\")\n",
        "\n",
        "for epoch in range(EPOCHS):  # we finish an epoch when we've looked at all training samples\n",
        "    \n",
        "    batch_losses = []\n",
        "    for batch_start in range(0, X_train_flat.shape[0], BATCH_SIZE):  # data is already shuffled\n",
        "        _, batch_loss = s.run([step, loss], {input_X: X_train_flat[batch_start:batch_start+BATCH_SIZE], \n",
        "                                             input_y: y_train_oh[batch_start:batch_start+BATCH_SIZE]})\n",
        "        # collect batch losses, this is almost free as we need a forward pass for backprop anyway\n",
        "        batch_losses.append(batch_loss)\n",
        "\n",
        "    train_loss = np.mean(batch_losses)\n",
        "    val_loss = s.run(loss, {input_X: X_val_flat, input_y: y_val_oh})  # this part is usually small\n",
        "    train_accuracy = accuracy_score(y_train, s.run(classes, {input_X: X_train_flat}))  # this is slow and usually skipped\n",
        "    valid_accuracy = accuracy_score(y_val, s.run(classes, {input_X: X_val_flat}))  \n",
        "    simpleTrainingCurves.add(train_loss, val_loss, train_accuracy, valid_accuracy)"
      ],
      "execution_count": 158,
      "outputs": [
        {
          "output_type": "display_data",
          "data": {
            "text/html": [
              "<img src=\"data:image/jpeg;base64,/9j/4AAQSkZJRgABAQEASABIAAD/2wBDAAIBAQEBAQIBAQECAgICAgQDAgICAgUEBAMEBgUGBgYFBgYGBwkIBgcJBwYGCAsICQoKCgoKBggLDAsKDAkKCgr/2wBDAQICAgICAgUDAwUKBwYHCgoKCgoKCgoKCgoKCgoKCgoKCgoKCgoKCgoKCgoKCgoKCgoKCgoKCgoKCgoKCgoKCgr/wAARCAEgA2ADASIAAhEBAxEB/8QAHwAAAQUBAQEBAQEAAAAAAAAAAAECAwQFBgcICQoL/8QAtRAAAgEDAwIEAwUFBAQAAAF9AQIDAAQRBRIhMUEGE1FhByJxFDKBkaEII0KxwRVS0fAkM2JyggkKFhcYGRolJicoKSo0NTY3ODk6Q0RFRkdISUpTVFVWV1hZWmNkZWZnaGlqc3R1dnd4eXqDhIWGh4iJipKTlJWWl5iZmqKjpKWmp6ipqrKztLW2t7i5usLDxMXGx8jJytLT1NXW19jZ2uHi4%2BTl5ufo6erx8vP09fb3%2BPn6/8QAHwEAAwEBAQEBAQEBAQAAAAAAAAECAwQFBgcICQoL/8QAtREAAgECBAQDBAcFBAQAAQJ3AAECAxEEBSExBhJBUQdhcRMiMoEIFEKRobHBCSMzUvAVYnLRChYkNOEl8RcYGRomJygpKjU2Nzg5OkNERUZHSElKU1RVVldYWVpjZGVmZ2hpanN0dXZ3eHl6goOEhYaHiImKkpOUlZaXmJmaoqOkpaanqKmqsrO0tba3uLm6wsPExcbHyMnK0tPU1dbX2Nna4uPk5ebn6Onq8vP09fb3%2BPn6/9oADAMBAAIRAxEAPwD9/KKKKACiiigAooooAKKKKACiiigAooooAKKKKACiiigAooooAKKKKACiiigAooooAKKKKACiiigAooooAKKKKACiiigAooooAKKKKACiiigAooooAKKKKACiiigAooooAKKKKACiiigAooooAKKKKACiiigAooooAKKKKACiiigAooooAKKKKACiiigAooooAKKKKACiiigAooooAKKKKACiiigAooooAKKKKACiiigAooooAKKKKACiiigAooooAKKKKACiiigAooooAKKKKACiiigAooooAKKKKACiiigAooooAKKKKACiiigAoorL0Txv4L8Tazq3hzw34v0vUNQ0G4S31ywsdQjlm06V4xIkc6KxaFmRlcK4BKsCODmgDUornvA/xc%2BFHxNvdU034bfE7w94hudDufs%2BtW%2Bh61Bdvp82WHlzrE7GJ8o42tg5RvQ10NABRRRQAUUUUAFFFFABRRRQAUUUUAFFFFABRRRQB4n4u/4KKfsfeBNQvNP8V/FS5tBZ6o2mi8PhTVHtLy8W/h0%2BS3tLhLYw3skd3PFBItu8hidiH27WxtH9s/8AZ0j8c2Xw5uvGOo2%2BqXl1YWbLd%2BFNTht7K9vYo5bSxu7h7YQ2N5KksRW0uHjnJmjHl5dQfErn9jP9q2PwF4b/AGddM1P4ejwL4T%2BLem%2BK7bWrnUb19V1Wzt/F1rrYt5IBaiK1ljgS4i3iWYXEixE/Z1ZtvQ%2BOP2PvjZrvjHxb4H0XU/C3/CAeOfi9oPj3VdautSuV1nT30%2BTSp5LCK1W3aGYSy6TFtuGuIzElww8pzGpYA9Ctf26v2X7uDV74eP76Gz0bT7m9l1K88KanBaXsFvOlvM9jcSWyxajtmkjjxatMS0iAA71z2fwp%2BMvgL406Te6v4EudTxpuoGy1Kz1vw9e6VeWk4jSXZLa30MM8eY5Y3UsgDK4IJBzXzNpv7EHx8tdW8TWtp4S%2BHGm%2BGNZ0HU7bVvAq%2BMtavvDvim8uLuCWO4bTJ4BHoDBEuCXs5Jz5lyGIl8obvQP2cf2TfHXhjTLn/hdvjLxDDBY%2BK11PwX4Z0P4yeIdSg0W2FvbK1tNfTNazanC88Mkoguo3iiWUxqChOQDpIv28f2VJo/EF0PibKtr4b0TVdXvtRl8O6glpdWWmki/msrhrcRakLcjEgtGmKkgEZIzzfjv/AIKX/sy%2BEPCsvibR7vxNrjweIvDemS6bp/gbV/tTxa3fizs7%2BGJrQPc2rlZ2jnhDxzNCYomeV40bxTQ/%2BCWPxH0b4Na58EvL0S6/s34b%2BKPDngXxXq3xX8TX5ebUbKeytpH0mfNjpaiGYrMYBcZIzGkfAHefH/8AYh%2BNnjvxw/xD%2BH2p%2BFHudP8ADnw5i0nTtX1O5to7m%2B8N%2BKJtZnilkitpTDDLE6RJKqSMHLExYA3AHqr/ALc/7Mi22vXcfjfU5k8N%2BJP%2BEe1IW3g/VZWfV/OeE6dbqlqTeXYdCTBAJJAhWQrsZWNTVP8AgoL%2ByhpNpo08nj/VbqfX7LVbrTNL0vwTrF5fsmmXEVvqCyWcFo9xDLbyzIskUkayJ8xK4RyvC237HXxp0LwtaeINCvvCs3ivQP2hNZ%2BI%2BjaZdancx6ffQXy6hbmznuVtmkhkFtqMpEiwyhZYk%2BVhXmGkfCP9pb4L/tzeENU8H6b4G1fx34p8B/EvxLrGkanrt5a6Ra/bNb8LhLeC7SzlmbylW3zIbdfOKy/LF5g2gH1HY/tkfs06p4M1n4haV8Ure70fQbjSYNQvbSxuZQW1SG0m08wqsZa5W4S%2BtfLeEOrNIUzuR1X02vgb4bfsh2vgj9qz4K/s7eCviXYa7YfDz4Z6K/xvs7NOHvdAXd4eeVVJFtJLdajPcpG/ztFp0eMqgNffNABRRRQAUUUUAFFFFABRRRQAUUUUAFFFFABRRRQAUUUUAFFFFABRRRQAUUUUAFFFFABRRRQAUUUUAFFFFABRRRQAUUUUAFFFFABXm3xV/a6/Z%2B%2BCfjKPwH8SfG9xZaj9ltLq8%2Bz6DfXdvptvdXD21tPe3FvA8NhFLNHIiSXLxqxjfBOxsek18h/t4/sVftR/tSaz4z0bwj8QtP8A%2BEc13whaWfhi21D4g61pUGjX0LzyTefp2nxeRqcdyxgUy3MjeQqkrBLt2OAewQ/t1/sqSXet203xVW1i0DT9QvrvUNQ0W9trK5t7CZYL2SzupYVh1AQyukb/AGV5SruqnlgDoeBP2wP2ffiP4k07wX4a8YX0et6pqd1p9voer%2BGdR06%2Biube0jvJY57e7t45bY/ZpY5l85UEiSKULZFeGaH%2Bxr%2B1refsrn9kLxBrXw80rQNF0iT%2BwNasr%2B%2B1C71C%2Bi1KG%2BsBco9vbrbQxmIxTlGna43B1EHMZ6/xj8Jf20/GvxA8D/HrVND%2BGCa/4M8S6hJaeDoPE2oLZjTLvS/sjltTNgZJrgTjzgPscaeWfKzlfNYA7XQ/26f2WvEuu2HhzQ/iXLcXWo6FPrUWzw9qAih02Ge5t5ryeUweXawJNaTxtJMyKGCAn97Fvb4e/bs/Zd8TeE9d8a2XxCvbay8O2On3upR6v4V1OwuWtr%2BRorGaC2ubaOa7juZVaKBoEkE0gKRlm%2BWvHf2fP2Ef2lfgx4b1d4vij4XsfFFx8E7vwro/iLS45pVsdak1bVr6K9EMsQBgT7dbttLE7o3XBADNyVj/AME5v2o7jxpqPxE1DXfDsV/Po3hGezt9a%2BKev%2BJGGseHde/taFZbnULYP9lu98qP5KRLana0cExLGgD6g%2BHv7YX7O3xP12Xwv4U8fyLqdtpd7qF7pur6Je6bcWcFnLFFdefHdwxNA8TXFuXikCyKs8TldkiMe0%2BHvj3wt8VPAWifE3wNfyXei%2BItJt9S0i6ms5bdprWeNZYnMUypJGSjKdrqrDOCAeK%2BOP24/h78Z/jDbfDn4e%2BMPGPhDQ/il4q8aahosfh7wfe3F08PgfUrJrTWl86VIZZjFCiXZuzDBGJ4baILuKGT7Z07TrDSNPg0nS7OO3tbWFYba3hQKkUagBVUDgAAAAe1AE1FFFABRRRQAUUUUAFFFFABRRRQAUUUUAFFFFABRRRQAUUUUAFFFFABRRRQAUUUUAFFFFABRRRQAUUUUAFFFFABRRRQAUUUUAFfNv7OHiPwd4W/au%2BMGlaH8LPF2i2Ov6zp02n3bfC7WLLT724WBlvJhcvZpAxa4d2aQviQszgsCWr6SooA%2Ba/2I7nRvHfjvWfi1/wrHxD4Hc%2BGbLQPCngbUPhzqmhW%2BheH7SadreN3urWGGW6kaYu8UJKQII4kB2SSy/QviLW/7BskvPsvm7pQm3ftxkE5zg%2BlX68t%2BMnxYfQvjP4P%2BCbaUjR%2BJvDut6uL4ykNE%2BnzabEIguMEOuoOxOePJAwd3Cc4QkufZtL5vRHThcJiMbKUaKu4xlN/4YR5pP5LW276HVf8LJ/6gv8A5M//AGNH/Cyf%2BoL/AOTP/wBjXL0V2%2Byp9jjuzqP%2BFk/9QX/yZ/8AsaP%2BFk/9QX/yZ/8Asa5eij2VPsF2da/j/ZZR3n9k/wCsldNvn9NoU5%2B7/tfpUX/Cyf8AqC/%2BTP8A9jWDN/yBbf8A6%2Bpv/QYqq0lSh2C7Oo/4WT/1Bf8AyZ/%2Bxo/4WT/1Bf8AyZ/%2Bxrl6KfsqfYLs6j/hZP8A1Bf/ACZ/%2BxqW48f%2BRFBL/ZOfOiL48/p87Lj7vP3c/jXJVa1D/j0sf%2BvU/wDo2Sk6UL7Bdm9/wsn/AKgv/kz/APY0f8LJ/wCoL/5M/wD2NcvRT9lT7BdnUf8ACyf%2BoL/5M/8A2NH/AAsn/qC/%2BTP/ANjXL0Ueyp9guzrbzx/9klEX9k7sxI%2BfPx95A2Pu%2B%2BKi/wCFk/8AUF/8mf8A7GsHWP8Aj7T/AK9YP/RSVVpKlC2wXZ1H/Cyf%2BoL/AOTP/wBjR/wsn/qC/wDkz/8AY14Vcftq/sb2lw9rdftafDKKWJykkcnjzTlZGBwQQZsgg9qb/wANu/sX/wDR3fwv/wDC%2B07/AOPVy/W8r/5/Q/8AA4//ACZ764U4tausuxH/AIT1/wD5Qe7/APCyf%2BoL/wCTP/2NS33j/wCxXs1n/ZO7ypWTd5%2BM4OM/drxnwP8AtO/s1/E3xFF4Q%2BG37Q3gbxDq06O8Gl6H4ts7u4kVVLMVjikZiAASSBwBmtD9o343%2BGvgNa23iXxPpWq3sereMbHRLaHSNLnu5BNeXawq7LCjsFUMzE45KhB8zqDtTlhay5qclJd00196bPMxuAzHLavssZRnSna/LOE4O3e04QdtHra2m56j/wALJ/6gv/kz/wDY0f8ACyf%2BoL/5M/8A2NeAj9tn9nFvC0PjlPFmrtos010g1ZfBmrG2jS2aNbi4kkFrtito2lVWuXKwhlkUvmOQLXvP23v2f/D19d6R4w8ZG2u7O/v4rhNO0XUryO2gtdQksJLi4kS0C28azR7JJH/dRk/61kKyNp7Okcd2fQ3/AAsn/qC/%2BTP/ANjUtj4/%2B23sNn/ZO3zZVTd5%2BcZOM/drx/4tfGXTvhh8K9X%2BJUOg3l/Jp9ytjZaZLDJaNe30l0lpBCGlQbUkuJI1EwVkKtvXeuM87o/7VU3hv4b%2BPfiH8RPh%2BtnrPwu1SS017QNG1f7ZHdXC2VrfQR21xJFBvE0N5bAF449ruykYXcR06aWwXZ77/wALJ/6gv/kz/wDY0f8ACyf%2BoL/5M/8A2NfLnij9sT4geCPC2uS%2BJPgLBJ4g8MeMdJ0bxDp%2Bl%2BLVlsba1v8A7MY79LqW2iklUC58vyxbhjLGy8R/vq2tY/ao1HS/i/d%2BDU%2BHUMnhfTPG1h4R1XxKdbK3MOrXljBdwhLTyCslv/pdpE0vnKwklYCMqhYns6XYLs%2Bif%2BFk/wDUF/8AJn/7Gj/hZP8A1Bf/ACZ/%2Bxr5o8GftbeLvi3q/jPR/gx8FBrA8Pazp9pod/qHiRLO11a1uBIJNQZ/JkaG2VoZQjIk7TL5ciqEkBCeB/2wtZ8ban8LYoPg7JDpvxFv9S0%2B51r%2B3o3t7G6tLfUJdtuBHvvIpP7OkZZSsKmKaFxuLMins6XYLs%2BnbPx/9rlMX9k7cRO%2BfPz91C2Pu%2B2Ki/4WT/1Bf/Jn/wCxr5f8cftg/Ff4O%2BI/FVp41%2BCPhl7Dw14ct7671XTPH88kVmL6%2BWxtnvjLpkQtYFj%2B13c8yNN9nhs3YowdCY/C/wC2vrPinw54C8UaX8I7e907xh47uvDd5r2k%2BK47nS7fyppYY7q0n8lXv45mjJjIijUqkhZ1IQSLkp32Hdn1J/wsn/qC/wDkz/8AY0f8LJ/6gv8A5M//AGNfH/iL/go1pXhjx94u8F33w6srmTwxFrA/svT/ABSsmtJJZSRRQteWLQKLK3vHmi%2BzzmaQOs0LFVDnbtH9sD4oT%2BMbn4J6T8B9KuviNp11etqGhL41ddO%2Bw21lY3RuYb02PmSFv7StIVja3j/emTLBEDs%2BSl2C7Pqb/hZP/UF/8mf/ALGpbfx/58U8v9k48mIPjz%2BvzquPu8fez%2BFfJnw7/wCCgHhz4veOYNF%2BGPhPTtT0p9Itb145PFkEOuzefosWrobXSmTN1CIbm1jaRZgRLMwCMsTsF%2BC37dHin41fDXxb438C%2BBvAU8XhnRrDUtZ1A/E2Z9Ks7SdJJpYZbuLTHaO/thAhntDFiNLiNvNJOyk4UrBdn1b/AMLJ/wCoL/5M/wD2NH/Cyf8AqC/%2BTP8A9jXy3/w198TNFufhzF8QfgTpWhyeP202GLR5PHSyasJ7p188Wtl9kVrqOzjkilupHaAxJ5hCvsG/b0D9pXx94j0L4l3UHwVt9O1L4f8AjCLR1stb8XwW8E1q9hYXx1C6uFjdLSNIL4u6IJ2CwnG5m2K/Z0uwrs%2Bif%2BFk/wDUF/8AJn/7GtTw34k/4SHzv9C8nydv/LTdnOfYeleF/s6fGT/hfnwlsPigNDgsFvbu9gjWx1H7ZaXKW93NbrdWtx5cf2i2mEQmil2JvjkRtozXsHw2/wCX3/tn/wCzVM4QULoabudRRRRXMUFIzKqlmYAAZJJ6UtMuJGit5JUt3mZUJESFdznH3RuIGT05IHuKAOH8C/tNfAn4lfC7WPjZ4M%2BI9ndeEtAkvV1bxBJFLBbQLaKWuJd8qrviVQXEq5jdMMrMpBrEb9tf9nVfDQ8St4m1v/kMnSv7H/4QfV/7WF2LT7aUOm/ZftgH2UifeYdnlkPnaQa8f0j4Y/Hz4lfs6fHL4I6v%2Bzx4i8I6h491PxHe%2BG73xDq%2BjSWbi8iJt45jY39xIgLKqP8AIQA/GecMX4aftGxftNP%2B20v7OussXvH00fDz%2B39JGqCzOkxxC/Mn2z7Hu%2B1RmLYLgt5BD/ezFQB9WeGvEmgeMvDmn%2BL/AApq9vqGl6rZRXmm39pIHiubeVA8cqMOGVlYMCOoIrG8QeMtU0nV5tPt4Ldkj27S6NnlQeze9Y37Kfwv1/4JfsyfD34PeK7m3m1Twx4M0zS9SktGLQm4gto45BGSATGGUhcgHaBVvxbeW8XiC4jk0q3kI2Zd2kyfkX0cD9K1pJOWqEx3/Cw9a/59bX/vhv8A4qj/AIWHrX/Pra/98N/8VXlHiL9sn9kbwfrt34X8W/tA/DLS9TsJ2gvtO1HxvbQT20qnDJJG9yGRgeoIBFU/%2BG7P2JP%2Bjn/hL/4cGz/%2BSqzeMy2Ls6kE/wDHD/5M9unwtxTVgpwy/EOLSaaoV2mnqmmqDTTTTTTaa1TaPY/%2BFh61/wA%2Btr/3w3/xVH/Cw9a/59bX/vhv/iq8o8O/tk/sjeMNdtPC/hL9oH4Zapqd/OsFjp2neN7aee5lY4VI40uSzsT0ABJrW%2BPHxw8LfAD4O%2BIvjN4n8Iy3lj4d0x7ua00y2uZ55sYCoqRlm5YgFsYUEs2FBI2pVMLXi5U2pJdmn%2BTZwY7LczyyooY2hUpSaulUhODa2ulOEG1fS6TV9L3PR9R8d6xZ6hPaR29sVimZFJRskAkf3qh/4WHrX/Pra/8AfDf/ABVeSap%2B2l%2Bz9Ld65d2cWt3v9j682l6glp4C16edLzZJK0PlRW5dpEjjZ5FVT5QKb9m9N2Nc/t5fs4abdzpfaza3cLyRnR/%2BEd0nV9UmvoW0y21IyCK2t2JxbXUcv7syL5Z3FgQ6JajTtscWp7p/wsPWv%2BfW1/74b/4qj/hYetf8%2Btr/AN8N/wDFVwN/8d/htZ/DPVvi9DaJcaBo%2Bhtq82oRWt0I7izFoLsSwO7Ks6mIg7kJGcqSGVgOZ%2BC37R%2Bu%2BPdV1rwp8TPgxp/hnW9H8OaX4gNhp2uz6mkmn3/2tYCX8uEidZLG5R4grKCilXcOMPlh2FdntWneO9YvNQgtJLe2CyzKjEI2QCQP71Q/8LD1r/n1tf8Avhv/AIqvl3wN/wAFEr/xHH4bgh%2BBXh%2BDxD4ytvDepeCtOHjiV7aey1iWdbeS8uRbk2cifZ33okVwpd40jeUsdufef8FMtCg13w9oMPwk8PCfVbmOzuLW58avHcX98uu3Oi3dto0Yib%2B1ntp7V5ZPmgxDNbuceYQitTvsPU%2Bsv%2BFh61/z62v/AHw3/wAVR/wsPWv%2BfW1/74b/AOKr5z8KftpeLvGd3Db%2BHv2bLG7HiXQ9U1X4crB4tYPq9vY31taSNdiSNFsdwu4LhdjXBMPmceYgib0D4DfGyf4v%2BHNXvdd%2BHemaTqWg%2BJb3RNSg0/V5760ee2cK7QXDLCZUydpJjQrIkiEZQktRg%2BgtT0z/AIWHrX/Pra/98N/8VU1j471i6naJ7e2AEMj8I3VUZh/F7Vi/2haf9AO1/wC%2B5f8A4urOlX1q1ywXR7Zf9GmOQ0v/ADybjl%2B/ShwjbYLst/8ACw9a/wCfW1/74b/4qj/hYetf8%2Btr/wB8N/8AFVl/2haf9AO1/wC%2B5f8A4uj%2B0LT/AKAdr/33L/8AF0%2BSH8oXZqf8LD1r/n1tf%2B%2BG/wDiqP8AhYetf8%2Btr/3w3/xVZf8AaFp/0A7X/vuX/wCLo/tC0/6Adr/33L/8XRyQ/lC7Nq28d6xPBcStb2wMMIdcI3J3qv8Ae/2jUP8AwsPWv%2BfW1/74b/4qqljfWrW14Ro9sMWwJAaX5v3qcH5/x49Krf2haf8AQDtf%2B%2B5f/i6ShG%2BwXZqf8LD1r/n1tf8Avhv/AIqj/hYetf8APra/98N/8VWX/aFp/wBAO1/77l/%2BLo/tC0/6Adr/AN9y/wDxdPkh/KF2an/Cw9a/59bX/vhv/iqmTx3rDafLdm3ttyTRoBsbGGDk/wAX%2ByKxf7QtP%2BgHa/8Afcv/AMXVmK%2BtTpE7/wBj2wAuYgV3S4Pyyc/fz/8ArpOEewXZb/4WHrX/AD62v/fDf/FUf8LD1r/n1tf%2B%2BG/%2BKrL/ALQtP%2BgHa/8Afcv/AMXR/aFp/wBAO1/77l/%2BLp8kP5QuzU/4WHrX/Pra/wDfDf8AxVH/AAsPWv8An1tf%2B%2BG/%2BKrL/tC0/wCgHa/99y//ABdH9oWn/QDtf%2B%2B5f/i6OSH8oXZtP471hdPiuxb2255pEI2NjChCP4v9o1D/AMLD1r/n1tf%2B%2BG/%2BKqpLfWo0iB/7HtiDcygLulwPlj5%2B/n/9VVv7QtP%2BgHa/99y//F0lCPYLs1P%2BFh61/wA%2Btr/3w3/xVH/Cw9a/59bX/vhv/iq57WPGvhHw9H52vyaRYpjO68vWiH5tIK5PVP2r/wBl7RGZNa%2BNfw8s2X7wuvGEEZH13XArOpUwtL43FerS/No7sLlmaY7/AHahUqf4Kc5f%2Bkwkem/8LD1r/n1tf%2B%2BG/wDiqmuvHesQQW8q29sTNCXbKNwd7L/e/wBkV4J4h/4KK/sJeF4zJqf7Snw4fHVbDxQt235QTOa43XP%2BCyX/AAT1ja30zw/8TJPEF5HCQ1nofhbVrhgfMc4BEQU5zn7x61w1c2yWi7Tr01/2/H9JM%2BlwXh14g5jHmw2UYqS7/V6yXzcqcEvm0fU//Cw9a/59bX/vhv8A4qj/AIWHrX/Pra/98N/8VXyV/wAPVfB2t/J8N/2H/jh4n3f6ufTvh5cJAfcySXC7R74o/wCG5/2wNf8A%2BRA/4JR%2BKLgN/qz4i8bWmlfmJHbFZf21lD%2BBuX%2BGFSX5Q/U7v%2BIXcb0/94oQo/8AX7EYWl96nirr5xXofWv/AAsPWv8An1tf%2B%2BG/%2BKrpvD%2Boz6tpEOoXCorybtwQEDhiO/0r4l/4aE/4Kh6n81l/wT18B6YG6LqPxSExX6%2BV1/Cvq39m3WPitr3wW0XVvjd4Q0fQfFEwuP7U0nQb97m0t8XEoj2Sv8zZiEbHPRmYDgVrSx1DFS5YU5x63lCUV98uvlY8fOuE8dkOFVeviMPO75eWliaNaa0bu4027R0s5Xtey6nc0UUVufMhRRRQAUUUUAFFFFABRRRQAUUUUAFFFFABRRRQAUUUUAFFFFABRRRQAV8yftW6r/Z37e/wCs92Pt/hPxxBj1wujS/%2B06%2Bm6%2BQP26NRk07/AIKLfspZBEd1F46tpG7AnTLR1H4mOvPzKfs6MJf9PKX41Ir9T7XgLD/Ws5r0u%2BExr/8AAcJVl/7ae30UUV9AfDBRRRQBam/5Atv/ANfU3/oMVVatTf8AIFt/%2Bvqb/wBBiqrSQBRRRTAKtah/x6WP/Xqf/RslVatah/x6WP8A16n/ANGyUnugKtFFFMAooooAtax/x9p/16wf%2BikqrVrWP%2BPtP%2BvWD/0UlVaS2A8yuP2Kv2N7u4e6uv2S/hlLLK5eSSTwHpzM7E5JJMOSSe9N/wCGIv2L/wDo0T4X/wDhA6d/8ZrzTUP%2BCxf/AATi0u/n0y//AGi/LntpmimT/hEdYO11JBGRaYPIPSof%2BHzX/BNf/o5D/wAs/Wf/AJDr554/hK%2BtSh/5S/8AkTX/AIihio6f27NW/wCour/80Hs/gf8AZi/Zr%2BGXiKLxf8Nv2efA3h7VoEdINU0PwlZ2lxGrKVYLJFGrAEEggHkHFXv2lPhRqnxf0uPRNC8UwaPf6V4x07W7G9u9Ma8h8yyvo7kRvEssTMriMpkSKV3BucbT5x8D/wDgpL%2BxZ%2B0f8RLX4UfBj4z/ANs6/ewyy21h/wAI7qVvvSNC7nfPbogwoJ5YZxxk1618XfiXoXw113TW8Q2d40GveLI9Giu7eNDHaTzmQQtMWYFUeVUgBUMfMniGMEsvqYKrl1alzYNwcP7nLa%2Bn8qSvt5kSz2pxC/rU8U8Q17vO6kqr015eaU5vS%2B17K%2B2p82fFX/gmUnxQ%2BFOlfCi9%2BLGlvaaf4L1bQfO1nwSt/wDZpbyfzl1CyR7lVtLpD8hkIkZk4UxH5q23/YC1C%2B8PeO9M1b4wwvd%2BOvDmu6Zc3Nt4aMcdpJqWqXOoNMsbXTFljNwYwhfLBM7hnA2bb/goZ8EJvGHhLwlcaXq9qPG1zDFoF9eXWmxrcCe7mtbWVLc3n2qaKZoldZIoZFWOeJpDGd4Tmvgd/wAFBn8dfD3w1e%2BIvAeqa34s17w/pN9LoXhHSIYkhafQ7bU7qZGur754I/PUclZMyJGqSn5z1%2B5cWp7T8WfhTffGD4V6v8Otf8TxWtzeXK3Gl6pY6eR9hmguVubKQxvI3mtFJFCW%2BZRIUOBGGwOU039k/WvEvgnxr4B8d/E22ur34n6jcXXivWNK8PtamK6eztLG0ls4nuJRAsENnAdshm8x03ErkqZ/hF%2B0RrPif9j/AEb9pXx/4UNtNL8NLHxPqaWO1be5eTTI72ZbZTLJIiKzMgEuG46sPmMP7N3x1%2BKGp%2BNr3wp8c00B7yx8GaF4thufDGnz28UdvfPeJJaMk08pkeF7I/vgUEomX93GVOR2sBznjT9kT4veMfA/ibTpfjr4dj8SeMvE2mar4g1qTwFO9qsVgLX7NbW1qNSVoRm1DOzzSlmmlwFBUJc1v9jnV/GHi67vfGfxQtrjw7r3iKx8SeLNA07QpbSS91m202GxElvdC7Z7S2b7NbTeTtklWSLInwxrB%2BGf7SPx88a6HbTeLfFHgPw3JrvwzsfHmmapJ4Zu7m20mwkLG5s7pP7QjM7xI8BFyjxK2ZMwqFGYNS/a3%2BOvhn4c/DVdX8NeH7zxb4k13QLjxmiaZcWlvo2g6trtvp1tmA3ErxXzx3SKqNK6eZa3bAssQRj3Q1J9U/4J5xeHtN8VaN8D/jFqfh2x8VRaNZXWn67eatrUMel2KuslgPN1NJFSdSsZaN0aOLfGvD5Xq/Ef7Pfxu1vXfhlq%2BnfFnwNpkHw6v5LsadYfDW5SC6ZrO8sRFCo1YC1iW1ugqp%2B8xJFuztbyl4z41ftM/tPfCrxJ4m8Oafp3g3Wbu18NXesWljougaheyeH4hqtra2P23ZcK1491by3UwjjS3ZWspVUzKpkrM8eftzeK/DVnofhrQPiX4VutWubDxBqWva5f/C7XoLfTY9MaxRrS50xJ5LyxYnUIpHupm8uKFDIYyHTJ7qDU9W8SfspzeNdO8d2v/CwRBqPizxvpnivT72XSPNi0%2BXSotNe1tZIvNH2mAyaYGdQ0RYXEgUo3z1ymrfshfGA6Fo1p4Z%2BOvhq0v7T4i3HjTWbm9%2BH888F1qEkjsscEKanEbaAByGVnld2y5cEtnmtb/bw%2BLvh74teKvD3hjwXpXiK30m38Qx6ToGm6Lel782XhuXU4TBrAka0u7iaVUh/s%2BKL7TGkrSkbYXLYzf8FDPFEt7D8NPD3j7wX4i1u78QW8EHjTwt4M1PU9NNlJpdxeu0em2t1Lc3M6SWrwFY58KHMjbTFJFSvG4anZeKf2AJ/Gj6jouvfF1F0M6l4j1XQIrHw6I9RsdR1id7iSWa6ad1uYoZpGaKHyY8BIQ7P5QJvv%2Bx78TYfF118atJ%2BPOmWnxH1K6vhqOvp4MdtP%2BxXNlY2htobI3u%2BMp/ZtnMrtcSfvVkJUo4ReZb9uvxPbfEDQNOv/ABL4FGm6rP4VtLPTbKC6nuvEK6ysMf8AaunXDSxqbGG5uFTDQMWELhnjZ41rrdA%2BIH7WOqa9470GDx78Mbqz8J3OnWLeJLrwnfafb2dyyC6v2eI6lN9pSG0ltSoEsAMssis6%2BSQz90NTFh/4Jy%2BF9KtrXwH4Y8fnTvBEVzYXs%2Blw6P8A8TU3lnoKaHC8WoCYLFH9lhgLJ5DOXV8SBZCg3PDP7E/iJ/h94y8MeMPi5p91c%2BI/B/h3wzPNo/hI2NqNG0q8d/Ia3N1JvlniurmGSQOqBGjCxAR4bgPDn7e3xG1/xB4b8P6pceGNBU6PYatrWqal4W1WWz1exvtbvtOsriCWF2XSYriDT3uUluzKoN5bxkn5nq9Zft1fETwj4C%2BIvij4h6xoEOr6W%2Bq2vhjwfP8AD7VtNeRYvEkWlWt2b6e4ePUIQJbV5xaxAr9oXlMqrJ8lg1PU/i18APHnxU8ZW0lx8YY4PCK69omsXPh2fw8JrqK60y8ju4/sl4J0FukskMIlDxSsVDhGjL5XF8O/s6/tDeH9c8feJLX9o3QLa88Z%2BKrLX7WTTfh/NEtncW1rp9n9nmEmpSfaLaS3sFSRF8mQmZ2SRMKBzfib9pX442H7PupfFrw547%2BHdxJ4al1OLW7q%2B8I6xaT3d7EYhY6Umkzzpc2l3cNKEIeWVgxgMcU32gCPU%2BE37SfxL8VftB6p8Ovibqek%2BGrRdek07w/4cufAWpLcajs0uC8ZY9Ya5%2BxSzKz3DGGOIuY7ZyAAGcO8bhqelfAb4S3Xwa8D3HhvU/EkWrX%2Bo6/qWs6neWun/Y7drm9u5bmVYYPMkMMQaQgKXduCzMzMSfXPht/y%2B/8AbP8A9mrl66j4bf8AL7/2z/8AZqVX%2BGwW51FFFFcZYUUUUAFFFFABXB%2BM/wDkZbn/AIB/6Atd5XB%2BM/8AkZbn/gH/AKAtbUPjJlseUeIv2Rv2UfGGu3fijxb%2BzF8PNU1O/nae%2B1HUfBdjPPcyscs8kjxFnYnqSSTVP/hiL9i//o0T4X/%2BEDp3/wAZriPiL/wVY/YH%2BE/jvVvhp8QPjz/Z%2Bt6HfSWeqWX/AAi%2Bqy%2BROhwyb47VkbB7qSPesX/h81/wTX/6OQ/8s/Wf/kOvJqY7hWNRqdShzXd7%2Bzvfre6ve97%2BZa8S8Vhl7FZ3OPL7vL9bqq1tLWVdJWtaySta1lax674d/ZG/ZR8H67aeKPCX7MXw80vU7CdZ7HUdO8F2ME9tKpyrxyJEGRgehBBFavx8%2BFjfG/4LeKPhEmvDS38RaLPYxakbXzxau6kLIY96eYFbBKbl3AEblzkeT/Dr/gqx%2BwP8WPHek/DT4f8Ax5/tDW9cvo7PS7L/AIRfVYvPnc4VN8lqqLk92IHvXsnxW%2BJehfB7wFe/EfxRZ3k2m6a8J1BrKNGa3geZI3uGDMo8qJXMshzkRxuQGICn0cBWyuvTk8FKDjfXk5bXt15Ule34ES4iq8Rv208Y8Tyac0qsqvL1teU6jXeya726nkfxG/YU1TxlHJpfiP4k6FqLv8RNW8SavZat4I%2B16XePewtCyizluyokiZjJDJI8qofvRv1rI%2BAX/BPe9%2BCt3oV7qHxki1d9D0tbCPyvDRthLEmgWGjRk5uZMMEsFlY9GaQqAoANdR8b/wDgoZ8EPg/4h1OXxdperpp9t4p1HSpdXa602CB3s5IEuZIVuLyOW6WOWZ4jHBHJNvtpgIiAhfnfCH7dxGs6n4e8YeFbvUtXTxNqmk6HoPhjS41lvzF4m1XSbYLNdXix%2BYYdP82UOI0XZI4fDCJetclkLU9M8D/AWPRP2crf9mnxr4hh1jRoPBVv4ZNxa6e1pLLapp6WkrPmWQbnIkcYwEDqvzFS7Z3wZ%2BAfxB%2BG/iO88ceMPixp/iHXNQ0nSNEur2Pwy1nGdK04XbQRiP7VJi5aa9nkefJQ7gohUAYsfstfG3xR8d/hw3jTxN4Lm0uRvEGv2cZ8tI0jjstbvrCGF0M0ji4ENrG0px5Zd22HHyryfwC/aU%2BJnxG8eeGoPGVloI0H4g%2BHNb1vwrDpljPFdabDYX1pCkV1I8zrcvNDeRyFkjhEbROmHDBhWmgalLwX%2BwRd6YNda58XeBbrWfEn9l2czy/CSzXSby3trt7iVtQ05Zwl5cXLSnzpo3txmOExpFsIbN07/gnedA0z/hHfDXxVs7TTdY0%2Bwt/GUB8KKXuXt9bvdZaTTilwi6bvudQuRtKTiNBDs2tHva58L/2t/iZ46/aHPwWg8TeDNM1bUtb8Q6fpGjS6DdXN94efTL4R21xqKC8j%2B0RXlsrXMYUW3yumxpl3SDk9e/bJ/aB8I%2BD7HxH4n8W/Dm0sNZn8S3Xh7xZf%2BF762sdTt9N%2ByxWlgsP9oSFbq/ke8ngkWWTdb267YHckCfcuGp13/DEvxG0rR7jSvBn7RMekNpPhvVtB%2BHt5D4WczaDZalfW9zc%2Bc63im6mSK1it4ZY/s5iUFyJHOa9b%2BBvw61j4T/Diy%2BH2qXfh2SLTB5Wnx%2BGPD02mW0NuAMJ5U13dOz7t7NIZMuWyRnJPn/hX4yfGfxr8YPAtr4a8SeFp/Cvi3w3J4l1DSZPClymoaXpRtoxCGvBftE073VxCFBtlVo4rnGDHz7dVJLoDCrWj/wDH2/8A16z/APop6q1a0f8A4%2B3/AOvWf/0U9N7CKtFFFMAooooAtaf/AMel9/16j/0bHVWku9e0Pw1oWpa14j1m00%2BzhtAZru%2BuFiijHmx8szEAfia%2Bf/iF/wAFRv2HPh9qX9gL8cLTxFqjMVh0zwbaTatLK391WtlePP1cVyYnHYLBK%2BIqxh6tL7k3d/JM9zJeGOJOI6jhlWCq4hrf2dOc0vVqPLH/ALelHvtqfQNFfLZ/b6/aE%2BI37r9nL/gnX8R9VWTiHUfHUtv4ctiP%2BegM5cuvfjBPtSN4N/4Ky/GEeX4l%2BLfwz%2BEmnS/w%2BFtGl1rUo17qzXREG7tuQjHWuL%2B2qFT/AHenUq/4YNL/AMCnyR/M%2Bm/4hxmmE1zfF4XBrqquIpyqL/uDh3iat/J8rPqK4uILWB7m6nSOONS0kkjAKoHUknoK8o%2BJ3/BQn9ij4M6Rd2/j79pXwtFdR3MZew07UBf3IwsmQYbUSSDqOq9683tf%2BCU3wc8Yzrqn7Tnxc%2BIvxYvNwd4/Fni2eOyRhz%2B6t7YxiNc87dxFe1fCn9kz9mP4K6Q9x8K/gJ4U0S5huYRHf2eiQi6xtk6zlTIeg6saTq57X%2BGnCkv70nN/dBRj/wCTMPqXhhln8fF4nGyXSjSp4em/%2B4mIlVq281RT62PFF/4KYX3jw4/Zx/Yu%2BLfjiFv9Rq8nh8aXps3ptuLlv5oMZpf%2BFp/8FY/iL8vhD9lv4Z/DyOT7svjjxnJqjovrt09QM%2Bx79a%2BoqKf9nY6r/Gxc/SChBffacvxD/W/hjBaZdkNBW2liKmIxMvVp1KFL5clu2h8vL%2Bzd/wAFMPGP%2Bk%2BNP%2BCh%2BkeGw/8ArNM8H/DG0ljX/dnuXEg/Kl/4d7/GbW/m8b/8FJvjRcFvv/2DqVvpgP0EcbYr6goo/sPAS%2BNzl/iqVH/7fFfghf8AETuKaf8Auyw9FdPZYPCQt83h6kvvk35nzNJ/wSp%2BHF3pcNx4m/ar%2BPetu9xIrnVfifK%2B7Cpz8ka8nPP0FQf8Oh/2QLz/AJGU%2BONZH8Q1Tx9fuG%2BuyRa%2Bqpv%2BQLb/APX1N/6DFVWksgyV70Iv1u/zkw/4it4kL4M0qw/wOFP/ANN0advlY%2BbNH/4JDf8ABOvRZPPh/ZwtbiTOWe/1/UbjcfcSXDD9K63Sv%2BCdn7C2joEtP2UfAzhen2rQIpz%2BcgbNezUVvTyXJ6XwYamv%2B3I//Is4MV4jeIWN/wB4zjFS9cRW/SpE4Dw9%2Byh%2By34SkE3hb9m3wDprjpJY%2BD7KJvzWIGvQV0rS9G0uwstI023tYRanEVtCqKP3snZQBTatah/x6WP/AF6n/wBGyV2U6FCjZU4KPokvySPnMZmmaZi74vEVKr/v1Jz/APS5zKtFFFbHAFd54M/5Fq2/4H/6G1cHXeeDP%2BRatv8Agf8A6G1Y1/gHHc1KKKK5SwooooAKKKKACiiigAooooAKKKKACiiigAooooAKKKKACiiigArxb4OfEH4sQfGP41%2BHfiR40TxBZeGL%2BxuvDljZ6RFaLY2s9k04tV27nlbAXdJI7FnLFRGhWNPaa858JfsrfCDwP8TNW%2BL3hxvFkeu65cpPq01z8RdbuLe6dPubraa8aDao%2BVUEe1V%2BUALxQB5l%2Bxn8YvjJ4s8SeG9N%2BKXxKk8UJ45%2BDWk%2BOF36baW6aNdzyYntbc20UZa1ImiEQmMko8hy0r7vl4//AIKRwNZftZfsreJkKqYviDqunh3cKB9qsAuMngZ2V9FfCD9m74M/Ae6vbz4WeEpNOkvrSC0fz9WursW9pA0rQWduLiVxa2sRmlKW8ISJPMbagzXzx/wVnX%2BzdY/Zv8V9Ps/7Ruh2Rb0FzFcqfw%2BWvLznTL3LtKm/uqUz9A8L/e4zpUv%2BflLFQ/8AA8Hi1%2Bh71/Y93/z2tf8AwOi/%2BKo/se7/AOe1r/4HRf8AxVVaK%2Bj1Pzstf2Pd/wDPa1/8Dov/AIqj%2Bx7v/nta/wDgdF/8VVWijUDTl0q6OkQR%2BbbZFzKT/pkWOVj77sdv85qt/Y93/wA9rX/wOi/%2BKom/5Atv/wBfU3/oMVVaSuBa/se7/wCe1r/4HRf/ABVH9j3f/Pa1/wDA6L/4qqtFPUC1/Y93/wA9rX/wOi/%2BKqzfaVdNbWaiW2%2BW2IObyIf8tXPHzc9e1ZlWtQ/49LH/AK9T/wCjZKTvdAH9j3f/AD2tf/A6L/4qj%2Bx7v/nta/8AgdF/8VVWinqBa/se7/57Wv8A4HRf/FUf2Pd/89rX/wADov8A4qqtFGoGnqulXUlyrLLbf8e0I%2Ba8iHSJR3aq39j3f/Pa1/8AA6L/AOKo1j/j7T/r1g/9FJVWkr2Atf2Pd/8APa1/8Dov/iqP7Hu/%2Be1r/wCB0X/xVVaKeoFr%2Bx7v/nta/wDgdF/8VXP/ALQPwR0r47eCde%2BGfiHWrnTrbVJ1eHU9I1OCG9sLiKdZ4LmBpAypNFNHHIhZGAZBlT0rWq1rn/IavP8Ar6k/9CNKzuM8P1T/AIJ5/Dm41S1u/DXj/wAQ%2BHrKzl8OzW%2BjaNq2nC1WfRGjNhIfOgkkO1IljaIv5RXLCMSYkFTwn/wTd%2BG/gHTtItvA3xO8VaTeaLYWdjaava63ppuTaQaVDpZgbfbsm2WG3hdyEDiRA0bR4Ar3GijlC5y/w0/Z60P4Z/CDTvgZBrc2seHNL8M2egWlprN9ZsfsVvaJa7WaJI95kRNzk5%2BZm2hVwozvgb%2BybpXwf1yPUbH4l6/rN3NBpWmS3uuajp08x0mw84W2nYSBQ0Km5nYuQZ3aQlpW4ruataH/AMhqz/6%2Bo/8A0IUmtAPFdI/YA%2BHml/DzxH8M7nx54hv9O1/wOvg22e%2B1uxMuj6CqyoljassKjaFmYGSYSyuFTe77Fxv/ABv/AGKv2f8A9oa4ttU%2BJ/ws8LX2qWuo6XdR65Lp%2BnS3xSxvoryO2M0qO3kO0Rjkj/ijmlUFS2R6DRT5QueWeF/2M7zwifFQ0n9o/wAbqvi3VbrU75k1LRIpob2aZZEnS4isknfyVSOGOOaSSMQRpCyPGoWqOqfsDeFdVsb2eT4ueKotf1iTUh4h8XQatpa6hq0F/BaW9zbyj7MbeONodPsEBhhidBaRlHUly3sNFHKFzzDwx%2Bwl8PNC8VLqWkeNPENnpFncajqOjeGLHXrWK00rUbrS59PlvLeSOMXaSeRcXGMztGjTO6qrBSsMH7EumQw/2y3xo8VS%2BLhriapH4%2Bm1LSW1RJEsmsViCG1%2ByeT9neRPLNuQWdpf9b%2B8r1/R/wDj7f8A69Z//RT1VpKOoXPMND/Yn8IeHZPCul6b8QPEf/CNeELfTV07wZceIrWXTZbiwUi1upN6GfzVbZIQkqRvJFG7IzDJf40/Yx8M%2BMvhRq3wh/4WDrWnWOueMLjxFqt3Z6hpsk11LNfNetayLcQSwyWu8rH5TxtuijWNywLbvTKKfKFzy3xX%2BxVpXjswy%2BMvjB4lv5rjT7fT/FExvtIhPiWxt7yW6trW8ENqirHE886qbYQOUmcMzbs1NqP7EHhXxffaxqnj74o%2BKtf36Ve23h%2BDVNesnHh77VfWt08lrIkKys6S21uY3uXnMYhVFwpZW9Mq1p//AB6X3/XqP/RsdJx0C54he/sEafc6xpfiq3/aA8ZQa3p/iC91261gXWgzPqOp3Ftb2i3c0M9g9ussNrbrbwtDFFsjeT7xctXURfsspcfEvS/iN4l%2BL3ibW00TVG1TSPD%2Bq61YNY2moNZSWTXKbIVmyYppyIjKYEadmSJSE297RT5QuWv7Hu/%2Be1r/AOB0X/xVdH4As5bT7X5rxHd5ePKnR/73XaTiuSrqPht/y%2B/9s/8A2aoq35GC3OoooorkLCmXNzbWVtJeXlwkMMKF5ZZXCqigZLEngADnNPrnvi54KuPiV8KPE/w5tNRFnLr/AIevdNiuyCfIaeB4g/HPBbP4UAc14J/a0/Z%2B%2BIHg3XviDoHj0w6P4Z0dNX1u81nSLvTRb6a8Uk0d%2BFu4omktXjilZLhA0TiJ9rNsbFB/20v2eo9Bi1w%2BINfMk2qvpy6KngTWG1dbhLZbtlbTRafbEUW7pKXaEJskRt2HXPk3g34L/F7x9pvjhPi9%2BzdeWNp4k%2BBel%2BA5PDs3iixjS%2BuLKLVXuGNzazStBbTNqKQwShDMmyWR4o/lB89v/wBkj9oLxL4om%2BLPxG8A/FDX7DUvEjPd6FH480jS/FyRRaH9iguTfaZdWlrBGZZLhHgt7hfMjFvJIJGMsdAH3D4U8U%2BHfHPhfTfGvhDWbfUdJ1iwhvtL1C0kDxXVtKgkjlRh1VkZWB7giuS8Z/8AIy3P/AP/AEBasfs3%2BD/GHw8/Z48BeAPiENOGv6H4L0vT9cGjwJFaC8htIo5vISNVRIvMVtqqqqFwAoHFHi28t4vEFxHJpVvIRsy7tJk/Ivo4H6VtR%2BIUtjDoq1/aFp/0A7X/AL7l/wDi6P7QtP8AoB2v/fcv/wAXXTd9iCrWZ418H6B8QvBur%2BAfFdkLnS9c0y40/UrY9JbeaNo5E/FWI/Gt3%2B0LT/oB2v8A33L/APF0f2haf9AO1/77l/8Ai6LvsB8%2BeMf%2BCcvwq1Twy/w8HxT8d28B8LX/AIb1zUYNRsjea7Dc3Ul1Nc3Ur2jf6Q11JJcM0IiWR5GEiPHiMSw/sC/DO0vm1/TviL4vttbXU5dStNdiubE3FpeSaxfaq80ataGEky6jcxFXjZPJYLt3DefofWL61TV7pG0e2Yi5cFmaXJ%2BY8nD4qt/aFp/0A7X/AL7l/wDi6lJW2Hc4D4IfBLS/gR4TTwX4d8Z67qdgt5qF4y63LbyO9ze6hc388zPHCjFjJdOoGdoRE43bmbB8B/sn%2BEvhx4obxT4b8e%2BJg9rZ31n4btLiWzkh8PWt7exXl3b2gNtkpJLBCP35mZEiVIyijFeu/wBoWn/QDtf%2B%2B5f/AIuj%2B0LT/oB2v/fcv/xdP5AefeDf2edL0/4zR/E/UviV4s1a5V7yLQrDVb%2BCW30IXs0clybUiESklo0CedJKIUBjiEcZKHD1f9lPw9d/Bvwx8DfDvxT8Z%2BH9F8M%2BGk8Pg6JqUCS6lpwto7ZobnzIHQsyRriaJY5YyWMTx7mB9m0e%2BtX1e1RdHtlJuUAZWlyPmHPL4qt/aFp/0A7X/vuX/wCLpddgOM8L/CDwj4P%2BIN/8RNBFxFPfeGNK0BbAMn2W1s9PlvZIBEoUMrE30oYliCI4gANpz1NWv7QtP%2BgHa/8Afcv/AMXR/aFp/wBAO1/77l/%2BLqtewirVrR/%2BPt/%2BvWf/ANFPWV41%2BJfw/wDht4cuPGHxC1LQ9D0q0Xdc6lq2oNbwRj3d5QB9M8186P8A8FLdZ%2BMmtXHhT9gH9l7UvidcRiaK48XXzzaV4etSEYOTczsDOVGSY0VSw%2B4x4rgxmZYPBWjVl7z2ivek/SMbyfrZLzPpsh4P4i4khOtgaH7mHx1ZuNOjD/HWqOFOL/u80pvpBn0tXmPxz/bN/Zd/ZtidfjL8a9E0i7RcjShc/aL5vTFtCGlOfXbj3ryaT9kb9s39oaX7d%2B1t%2B15P4e0qbmTwL8Gon062A7o99NuuJVPRlIx1wec16t8DP2JP2Q/2c3jv/hb%2Bzz4et9TQ7jruoLNeagz9S32ieR5FJPJCkDPauX61nGK/gUVTX81R6/8AguDb/wDApo97%2BxeAMj/5GeYzxlRf8u8HG0L9nisRGMX60sPPyb0PKE/bn/aZ%2BN7CP9kD9iHxDe6dJ/q/F/xKul0OwZe0kULZluEPqpB9qf8A8KB/4KZfF35/i9%2B2Z4b8BWUnM2jfC3wr5rkH%2BEXl6fNjI9VBr6v/ALQtP%2BgHa/8Afcv/AMXR/aFp/wBAO1/77l/%2BLo/sqrW1xVepPyT9nH7oWf3zYnx5hMu93I8qw2HS2nUh9arerqYnmgn/AIMPFLofMfhj/gkv%2Byvf3U3iX433/jP4p6vbQiSLUPiH4vubza5kQEiONo4yMEjaysMfnXt/w7%2BD/wAJ/hFp39kfCv4Z6B4btioDQ6HpENqrf73lqNx9zk121jfWrW14Ro9sMWwJAaX5v3qcH5/x49Krf2haf9AO1/77l/8Ai66sLluX4OTlQoxi%2B9lf5yd5P/wI8POuM%2BLeIqapZlj6tWC2g5tU16Uo8lKPoqaKtFWv7QtP%2BgHa/wDfcv8A8XR/aFp/0A7X/vuX/wCLrvu%2Bx8wVatQ/8gW4/wCvqH/0GWj%2B0LT/AKAdr/33L/8AF0Xfibw9pWkSvqiabag3EWFnuXQN8snPzSZ4/r9KmUrK7BtJXbKtFY2tfHD4NeG7Zr3xF428JWEK/emvdeWJR9S0wFcJqX/BQ/8AYV0m9On3n7Svw181fveT4sjlUe25JiM%2B2awq47B0f4lSMfWUV%2BckctXH4Ch/FrQj6yivzkj1SivHdb/4KX/sC6BYHUr79pHwDJGP4bLW2uZP%2B%2BIXZv0ri5f%2BCwv7H%2BsStb/Cfwr4z%2BIEoO0ReDPAupzlm9B53lA/niuWpneUUnaVeF%2Bykm/ujzP8Djq59klF2liYX7KSb%2B6PM/wPqCb/AJAtv/19Tf8AoMVVa%2Bbm/wCCknxQvNOivNM/4Jf/ABqfTjNIYZbvRVgmPCZzAZyynp1J7e9Q/wDDyT4j3v8Ao2h/8EwfjVJdd0v9BFrF/wB/GuCP0rJZ9ln8z/8AAKn/AMrM/wDWHKP53/4Lq/h%2B6Ppeivmj/hu/9rKH/Srz/glJ4wW1P3Hg8WWskpHvEHyPpmgf8FHPirF%2B7vP%2BCX3xjWQfeEOlrIv4MLjmn/buXLdyXrTqL/3GH%2BsGV9ZSXrTqr/3GfS9WtQ/49LH/AK9T/wCjZK%2BXv%2BHiHxu1D934e/4Jb/FWWT01JI7Rc/7zTGpbv9rH/gox4xht7fwR/wAExdO0SPySI9R8Y/E63CAb2/5YQHzMZz3Pf2pPPMC2uRTl6U6j/wDbF%2BYf6wZc/g55f4aVV/8AtiX4n0lRXzP/AGn/AMFjNZHnJ4d/Zo0aJ%2BVhll8Q3E0fsSH2E/So5fhn/wAFY/FPyax%2B098KfCwPBfw14IuL1l9wLyTFP%2B1py%2BHC1n/24l%2BdQP7ZnL4MJWf/AG4o/wDpVRH05XeeDP8AkWrb/gf/AKG1fEX/AAxb%2B2xrvPjn/gqJ4rm3ffXw/wCBNO0zHsChbFfWv7M3w81f4VfBDRPAWvfEnW/F93YC587xF4jmWS8uy9zLIPMZQB8ocIuBwqKOcZq4YrFV3aph5U13lKD%2BVotv8TrwWMxeIqtVMNKnG28pQfytFyf42O8ooorU9MKKKKACiiigAooooAKKKKACiiigAooooAKKKKACiiigAooooAKKKKACvkH/AILOf6H8B/ht4n6f2J8d/DF9u/u7ZZUz/wCP19fV8g/8FyP9C/4J/at4n6f2J4t0G%2B3f3duoQpn/AMfrys80yeu%2B0W/ual/7afoHhTr4k5TD%2BetGH/gyNSn/AO5D26iiivpT87CiiigC1N/yBbf/AK%2Bpv/QYqq1am/5Atv8A9fU3/oMVVaSAKKKKYBVrUP8Aj0sf%2BvU/%2BjZKq1a1D/j0sf8Ar1P/AKNkpPdAVaKKKYBRRRQBa1j/AI%2B0/wCvWD/0UlVatax/x9p/16wf%2BikqrSWwBRRRTAKta5/yGrz/AK%2BpP/QjVWrWuf8AIavP%2BvqT/wBCNLqBVooopgFWtD/5DVn/ANfUf/oQqrVrQ/8AkNWf/X1H/wChCk9mBVooopgFFFFAFrR/%2BPt/%2BvWf/wBFPVWrWj/8fb/9es//AKKeqtLqAUUUUwCrWn/8el9/16j/ANGx1Vq1p/8Ax6X3/XqP/RsdJ7AVaKKKYBXUfDb/AJff%2B2f/ALNXL11Hw2/5ff8Atn/7NWdX%2BGxrc6iiiiuMsKKKKACiiigArg/Gf/Iy3P8AwD/0Ba7yuD8Z/wDIy3P/AAD/ANAWtqHxky2MuiiiuokKKKKALWuf8hq8/wCvqT/0I1Vq1rn/ACGrz/r6k/8AQjVWktkAUUUUwLWh/wDIas/%2BvqP/ANCFVataIQNasyT/AMvUf/oQr5j%2BL/8AwUJ06XxrcfAj9jjwFN8WPiBEdl5FpUwXR9EOSPMvr3/Vrg5/dqckqVLI2AePF47C4GKlWla%2BiW7k%2B0Yq7b8kvWy1PeyDhnO%2BJ8TKjl1Lm5FzTk2oU6ces6tSbjTpwX805K%2B0VKVov3zxx488E/DPwvdeNfiH4s0/RNIsU33epapdpBDEPdnIGT0A6k8CvmW7/bh%2BPH7Ud9L4X/4J5/B0XukiUxXPxZ8d28tnosODhjawkCa8YewG0gbkKnNXfAv/AAT5174q%2BKrT4w/8FBfiOvxJ8QW0nnaZ4Pto2h8M6Ix/hitTj7SwHBklHzD7ysQGr0v4wftn/sg/sxWo0b4n/Gzw3oUlnGI49EtZvPuokAwFFrbB5VUYwPkA4ryq9bG4in7TEVFhaPm4%2B0frJvlp%2Bkeefmj6XE4/w%2B4EpObcMxxUd51G4YKm/wC7BunVxTX803RovpTmt/PPBP8AwTS8IeI/Elv8Tf2zfibrHxm8Uwt5kMfiPEOi2DHqLfToz5Sr2Ifcp67Qa%2BnvCelaZocMej6LpsFnaW1jNHbWtrCsccSCFwFVVACgegr5Y/4eeWvjr9z%2Bzd%2ByB8XPH2//AFGpxeGDp2mP6Zurkjbn3TpU%2BneO/wDgrj8VLhh4R%2BBfws%2BFttJBLuk8Y%2BJJtZvI4/LbJQWQEW/HQNx61nhcZk2Ei1gqcpt7uEJycvN1JJX%2Bc2ux8Fn3iVmPFVSDxNepiIw0hCnTao012pwjGlQpr/AlfrKW59O1keL/AIg%2BAvh9ZrqPj3xvpGiW7/dn1fUorZD9GkYCvnE/sQftc/Esbv2gv%2BCj3jNreX/WaX8N9HttAWNe6CdA7uPdhmtjwd/wSi/Yd8M3za54h%2BE0vi/VpB/pGr%2BNtYudTmm92WV/Lz9EFdv1vN638LDKK71Jpf8AksFJ/wDkyPnvrudV/wCDhVBd6k0v/Jaam/8AyZHT%2BLf%2BCiX7DHgmKSXW/wBqzwQ/lD500zXYr1x7bbYuxPsBmuCb/grD8D/FbGD9n/4P/FP4nSMcQzeEPAlwbcn1aW48vYv%2B1g4r2fwn%2Byz%2BzL4Dkjn8Ffs7%2BB9JkiOY5tO8KWcLg%2Bu5Ywc%2B%2Ba7tVVFCIoAAwABwBT9jntX4q1OH%2BGEpP75yS/APYcQ1vjr06a/uU5Sf31JJf%2BSnzJY/tGf8FN/H8F3c/Db9gvQPDFgbcYuPH3j6JppV8xMHyLVd0Rzjhs96iOq/8FjddH2a28K/s/6Er/eubq%2B1e5eMeoVBgn68V9V6f/x6X3/XqP8A0bHVWksqrSb58VVfpKMfwjDQf9j15fxMZWfpKMV90aen3ny6P2bP%2BCl/jL9743/4KH6T4djb79h4O%2BGdrIv0E9y3mD8qUf8ABOz4rax%2B%2B8Z/8FI/jlPMeraJr0Gmp/3wkTAV9Q0U/wCw8BL%2BJzy/xVKj/wDb4r8Bf6v5dL%2BJzz/xVar/APb4r8D5eb/gl1oWp/ufGP7bv7RWu2p/1mn6l8T2MEn1VIVP5GtDSv8Agjx/wT3h0u41DXPghPrd8biJZNR1rxTqU8zgrITn/SAvYdAK%2BkatQ/8AIFuP%2BvqH/wBBlpf2Dk27oRl/ivL/ANLlIa4cyK95YeMv8Sc//S5TPnbRv%2BCWf/BPvQrpbux/Zd8PO69BeNPcr%2BKyyMp/EV3mmfsjfspaLZDTtJ/Zm%2BH9vAP%2BWUXg6yAPuf3XJ969DorqpZXllH%2BHQgvSEf8A5E6qWU5VQ/h4enH0hD/5E4nRf2av2c/Dl%2BNV8PfAHwTYXQ6XNl4Vs4pB/wACWMGu0iiigiWGCJURBhURcAD0Ap1FdVOjRoq1OKj6JL8kjrp0aNFWpxUfRJfkkWpv%2BQLb/wDX1N/6DFVWrU3/ACBbf/r6m/8AQYqq1aNQooopgFWtQ/49LH/r1P8A6NkqrVrUP%2BPSx/69T/6NkpPdAVaKKKYBXeeDP%2BRatv8Agf8A6G1cHXeeDP8AkWrb/gf/AKG1Y1/gHHc1KKKK5SwooooAKKKKACiiigAooooAKKKKACiiigAooooAKKKKACiiigArxP4Iftd6n8W/Hml%2BH9V%2BGMWk6P4t0PWNY8B6tBrpuptSstOvbe1la5gMEYtJJBd280SLJNujZ9zIybT7ZXg3wt/Y18S/DbxppGrt8XrS%2B0TwrpOr6N4P0geG3hnsNL1K8hubiKW4W7ImnQWttDDMscYjjR90crSbwAJ%2Bxn%2B27b/tc6hq1jb%2BDdK086Zomm6lN/Yvioao2nyXbXCnS9RX7PD9h1OD7P8AvrT975e8fOeM8h/wWt0r%2B2f%2BCanxItNudlrZz4/65XkMv/sld9%2By3%2ByTrP7Pep2%2BpeIviXZ6/wD2T4C0nwboCab4a/swR6Xp7TtC91/pEwubk%2BdzIoijGG2RJvbOR/wVS0%2BXVP8Agn58VLONmH/FHX0rhT1EUDy8%2B3yZ/CuDNYe0yvEQ7wn/AOkSPsPDzE/U%2BP8AKK/8uKw7/wDK9L/M3fA2q/294J0fXN277bpVvPu9d8at/WtWuP8A2XfF%2Bs63%2BzN8OtZXWLki78C6ROCLhv47KJvX3ruv7c1r/oMXX/gQ3%2BNexh5uph4T7xT%2B9J/qfN5thvqebYnD/wAlSpH/AMBqTj/7aVaKtf25rX/QYuv/AAIb/Gj%2B3Na/6DF1/wCBDf41tqeeE3/IFt/%2Bvqb/ANBiqrWnLrGrjSIJRqtzuNzKC3ntkgLHgdfc/nVb%2B3Na/wCgxdf%2BBDf40lcCrRVr%2B3Na/wCgxdf%2BBDf40f25rX/QYuv/AAIb/GnqBVq1qH/HpY/9ep/9GyUf25rX/QYuv/Ahv8as32saultZsmq3ILWxLETtyfNcZPPoB%2BVJ3ugMyirX9ua1/wBBi6/8CG/xo/tzWv8AoMXX/gQ3%2BNPUCrRVr%2B3Na/6DF1/4EN/jR/bmtf8AQYuv/Ahv8aNQDWP%2BPtP%2BvWD/ANFJVWtPVdY1eO5VY9VuVBtoTgTsOTEpJ6%2BtVv7c1r/oMXX/AIEN/jSV7AVaKtf25rX/AEGLr/wIb/Gj%2B3Na/wCgxdf%2BBDf409QKtWtc/wCQ1ef9fUn/AKEaP7c1r/oMXX/gQ3%2BNWdY1jV4tXuootVuVVblwqrOwAG48daWtwMyirX9ua1/0GLr/AMCG/wAaP7c1r/oMXX/gQ3%2BNPUCrVrQ/%2BQ1Z/wDX1H/6EKP7c1r/AKDF1/4EN/jVnR9Y1eXV7WKXVblla5QMrTsQRuHB5pO9mBmUVa/tzWv%2Bgxdf%2BBDf40f25rX/AEGLr/wIb/GnqBVoq1/bmtf9Bi6/8CG/xo/tzWv%2Bgxdf%2BBDf40agGj/8fb/9es//AKKeqtaelaxq8lyyyarcsBbTHDTseRExB6%2BtVv7c1r/oMXX/AIEN/jS1uBVoq1/bmtf9Bi6/8CG/xo/tzWv%2Bgxdf%2BBDf409QKtWtP/49L7/r1H/o2Oj%2B3Na/6DF1/wCBDf41ZsdY1d7a8Z9VuSVtgVJnbg%2BagyOfQn86TvYDMoq1/bmtf9Bi6/8AAhv8aP7c1r/oMXX/AIEN/jT1Aq11Hw2/5ff%2B2f8A7NWD/bmtf9Bi6/8AAhv8a6PwBfXt79r%2B2Xksu3y9vmyFsZ3dM1nVvyMa3OjooorkLCiiua%2BM3h3xH4w%2BD/ivwl4OvPs%2Br6p4avrTSrjzNnlXMtu6RNu/hw7Kc9sUAL4L%2BMfwh%2BJOj6h4h%2BHfxU8N6/YaTM8Oq32i65b3UNnIi7nSV4nZY2VeSGIIHJrN/wCGlv2ch8Oj8Xz8f/BP/CJLdi1Pij/hKrP%2BzhOSAIvtPmeVvyQNu7OT0r5k8F%2BB4/it4S%2BI3hrUPg74/wDD3h3xF%2BzbovgiXSovB1xZXsl/aW%2Bs/a7a2S6jSEvDFfW8UUrsLed32JI6xtji28AftA%2BI/ian7R3ivxN43svDg8deY2p%2BF/gvc22opMvhg2K6jDoV7DeXCIWJsmklilc5dlCQskkYB%2BgNpd2l/axX9hcxzwTxrJDNC4ZJEIyGUjggg5BFcP4z/wCRluf%2BAf8AoC1P%2BzcfG5/Z48B/8LM8I2Xh/wAR/wDCG6Z/b2habbLBb6defZY/Ot4o0JWNEfcgRSQoUAEgZK%2BLZNLXxBcC4s7h3%2BTcyXKqD8i9ih/nW1H4hS2MOirXnaL/ANA%2B6/8AAxf/AI3R52i/9A%2B6/wDAxf8A43XTfyIKtFWvO0X/AKB91/4GL/8AG6PO0X/oH3X/AIGL/wDG6L%2BQBrn/ACGrz/r6k/8AQjVWtPWJdIGr3Qlsbkt9pfcVulAJ3HtsOKredov/AED7r/wMX/43ST0QFWsT4i/EfwJ8JPBl/wDEP4l%2BKrLRdF0yEy32o38wSONew9WYnACjLMSAASQK4z9rz9s/9n/9i/4bP4%2B%2BKs901zcBk0TQbS%2BjN3qcwH3I1KcKMgtIflQEZOSqn89/CHwr/bV/4LK/ES1%2BKvxWvZ/BHwosbsyaPCFJhRM4IsonA%2B13G3KteSDYpL7B8oSvn82z9YOssHhIOriZbQW0V/NN/ZXrZvy3PoMFluWYXCwzDO6sqdCTfJTpqMsRiHF2caEJNJRT0qYms4Yels5VaiVF%2B1/EL476x%2B2tHFrnxT%2BKq/A79nBph5mpavqaafrvjuEN8whDndBaMP7oLSA4w24iPX%2BE37UVmnhKL4Q/8Eof2LbnVtBt3KL4z1y2fRvD6v0MxlmxcXz8Dd0kPBya9j%2BC3/BMH9h74ceKrTxLqXwnvPGniBriLzPEPxD1c6zcSsGGGZZk8oEeqop9694t08O2lulraaRPFFEgSOOO5RVRQMAACPAAHauXB5Tm0qjrYmooTktZRtKdv5YykuSnHyhFvq5SepycRcVcTcS4aOW4dQy7LqbvDD0W6km9vaVqs1FVazXxVZQk1flpRpQSi/k0fsQ/tT/Hw/bP2zf2y9W%2BwS8y%2BB/hVGdI04DvHJckGe5jPo4B4616t8EP2If2T/2dPLn%2BEXwM0LTb2L7urTW32q%2Bz3P2mcvLz1wGx7V6/52i/9A%2B6/wDAxf8A43R52i/9A%2B6/8DF/%2BN17NDKcvoVPa8nNP%2Bab55ffJu3/AG6onyuHyTLcNVVXk56n8825y/8AApXt/wBuqK8irVrR/wDj7f8A69Z//RT0edov/QPuv/Axf/jdWdKl0g3LeXY3IP2ablrpTx5TZ/g9K9FvQ9UzKKtedov/AED7r/wMX/43R52i/wDQPuv/AAMX/wCN07%2BQFWirXnaL/wBA%2B6/8DF/%2BN0edov8A0D7r/wADF/8AjdF/IA0//j0vv%2BvUf%2BjY6q1p2MukG2vNljcgC2G4G6U5Hmp0%2BTjnFVvO0X/oH3X/AIGL/wDG6SerAq0Va87Rf%2Bgfdf8AgYv/AMbo87Rf%2Bgfdf%2BBi/wDxunfyAq1ah/5Atx/19Q/%2Bgy0edov/AED7r/wMX/43VmKXSP7InIsbnb9piyPtS5J2yY52fWk2BmUVa87Rf%2Bgfdf8AgYv/AMbo87Rf%2Bgfdf%2BBi/wDxunfyAq0Va87Rf%2Bgfdf8AgYv/AMbo87Rf%2Bgfdf%2BBi/wDxui/kATf8gW3/AOvqb/0GKqtacsukf2RATY3O37TLgfalyDtjzzs%2BlVvO0X/oH3X/AIGL/wDG6SYFWirXnaL/ANA%2B6/8AAxf/AI3R52i/9A%2B6/wDAxf8A43Tv5AVatah/x6WP/Xqf/RslHnaL/wBA%2B6/8DF/%2BN1ZvpdIFtZ77G5INsdoF0owPNfr8nPOaTeqAzKKtedov/QPuv/Axf/jdHnaL/wBA%2B6/8DF/%2BN07%2BQFWu88Gf8i1bf8D/APQ2rjfO0X/oH3X/AIGL/wDG67XwkYG8P25t43RPn2q7hiPnbuAP5VjWfulR3NGiiiuYoKKKKACiiigAooooAKKKKACiiigAooooAKKKKACiiigAooooAKKKKACvIP299K/t39jv4j6Jt3fbPBGsQAY679PuF/rXr9cL%2B0hpX9u/BzXND27vtmm3MG31328q/wBazrQ9pRnDvGS%2B%2BMl%2Bp6WTYn6nnOFxH8lWlL/wGpTl/wC2nhX/AAT%2B1X%2B2f2HvhNebs7Ph/pcGf%2BuVskf/ALJXr9fPf/BKbVf7Z/4J7fDC83Z2aJLBn/rldTxf%2ByV9CVeUT9plOHl3pw/9Jiex4gYb6nx7m1D%2BXFYhf%2BV6v%2BYUUUV6J8iWpv8AkC2//X1N/wCgxVVq1N/yBbf/AK%2Bpv/QYqq0kAUUUUwCrWof8elj/ANep/wDRslVatah/x6WP/Xqf/RslJ7oCrRRRTAKKKKALWsf8faf9esH/AKKSqtWtY/4%2B0/69YP8A0UlVaS2AKKKKYBVrXP8AkNXn/X1J/wChGqtWtc/5DV5/19Sf%2BhGl1Aq0UUUwCrWh/wDIas/%2BvqP/ANCFVataH/yGrP8A6%2Bo//QhSezAq0UUUwCiiigC1o/8Ax9v/ANes/wD6KeqtWtH/AOPt/wDr1n/9FPVWl1AKKKKYBVrT/wDj0vv%2BvUf%2BjY6q1a0//j0vv%2BvUf%2BjY6T2Aq0UUUwCuo%2BG3/L7/ANs//Zq5euo%2BG3/L7/2z/wDZqzq/w2NbnUUUUVxlhRRRQAUUUUAFcH4z/wCRluf%2BAf8AoC13lcH4z/5GW5/4B/6AtbUPjJlsZdFFFdRIUUVFf39jpVjPqmqXsVtbW0LS3FxPIEjijUEs7MeFUAEkngAUNpK7BtJXZf1z/kNXn/X1J/6Ea%2BRP2pf%2BCpvgf4d%2BM4/2ev2WfDR%2BKPxU1Gc2ljo2kPvsbGfkZuZkOG2YLNGhG0I294sZrwX9vr/goV8Vv2vvGv8AwzD%2Bw5BfNonifVZ9Pg1%2By3RXXigh2EotmODBp8YDebcnG8KyghQ%2Bfp//AIJ9/wDBOv4Y/sPeCvtMcdvq/jjVLZV1/wASmHG0cE21sDzHACP96QgM3RVX5F5vjc6xbwmVvlpx%2BOs1e392mno5f3not7NWv30Mmr4rJY5viaroYapdUbK9XE8rcZTpKS5aeHhJOMsTNSU5qVPDU6jjOrT4b4Mf8Et08d%2BPF/aU/wCChni9fiV4%2Bugrx6G4xomjoDlLeOHAE6pk8ECMlmyjtmRvsGzs7TT7SKwsLWOCCCNY4YYUCpGgGAqgcAADAA6VJRXv4DLcHlsHGhGzespPWUn3lJ6t%2Br9EjyaWGpUZymruUrXlJuUnbRJyk22ktEtIpaRjFaFrQ/8AkNWf/X1H/wChCqtWtD/5DVn/ANfUf/oQqrXd1NwooopgFWtH/wCPt/8Ar1n/APRT1Vq1o/8Ax9v/ANes/wD6Kek9gKtFFFMAooooAtaf/wAel9/16j/0bHVWrWn/APHpff8AXqP/AEbHVWkt2AUUUUwCrUP/ACBbj/r6h/8AQZaq1ah/5Atx/wBfUP8A6DLSYFWiiimAUUUUAWpv%2BQLb/wDX1N/6DFVWrU3/ACBbf/r6m/8AQYqq0kAUUUUwCrWof8elj/16n/0bJVWrWof8elj/ANep/wDRslJ7oCrRRRTAK7zwZ/yLVt/wP/0Nq4Ou88Gf8i1bf8D/APQ2rGv8A47mpRRRXKWFFFFABRRRQAUUUUAFFFFABRRRQAUUUUAFFFFABRRRQAUUUUAFc94D%2BLnwo%2BKenXur/DH4neHvEdppty1vqN1oOtQXkdrMoDNHI0TsEcAglWwQDUfxm8O%2BI/GHwf8AFfhLwdefZ9X1Tw1fWmlXHmbPKuZbd0ibd/Dh2U57Yr5Cj8E/EL4qfCb4s%2BHPhf8ACjxV4XufEX7L%2BleCNAsNZ8K3mm7tdtLTWvMtgZY41RIlvrWJbgMIpWciKR/KJAB9i/Dz4o/DL4u6C3ir4T/EXQvE%2BlpcNbvqXh3V4b23WZQC0ZkhZlDAMpK5yNw9ab8RkSTQo45FBVrkBge42tXl37F954yvH8bPqthrkugf23Z/8I3rfirwKnh7VL9Bp9usyTWq2tqWjgdRDFK0KkomzdIIg7ereO2tV0iM3cMjr9pGBHIFOdrdyDV0/jQmfFX/AAR1d7f9gPwp4ekYl9H1XWrJ89QV1S6bH5OK%2Bn6%2BZv8AgkxJplj8BfGfhe4s7hjonxg8SWICXKqFC3QfGNh/v19R%2Bdov/QPuv/Axf/jdcnD7tkmHXaCX3Xj/AO2n33iur%2BJebz/nxE5/%2BDOSp/7kKtFWvO0X/oH3X/gYv/xujztF/wCgfdf%2BBi//ABuvXv5H58E3/IFt/wDr6m/9BiqrWnLLpH9kQE2Nzt%2B0y4H2pcg7Y887PpVbztF/6B91/wCBi/8AxukmBVoq152i/wDQPuv/AAMX/wCN0edov/QPuv8AwMX/AON07%2BQFWrWof8elj/16n/0bJR52i/8AQPuv/Axf/jdWb6XSBbWe%2BxuSDbHaBdKMDzX6/Jzzmk3qgMyirXnaL/0D7r/wMX/43R52i/8AQPuv/Axf/jdO/kBVoq152i/9A%2B6/8DF/%2BN0edov/AED7r/wMX/43RfyANY/4%2B0/69YP/AEUlVa09Vl0gXK%2BZY3JP2aHkXSjjylx/B6VW87Rf%2Bgfdf%2BBi/wDxuknoBVoq152i/wDQPuv/AAMX/wCN0edov/QPuv8AwMX/AON07%2BQFWrWuf8hq8/6%2BpP8A0I0edov/AED7r/wMX/43VnWJdIGr3Qlsbkt9pfcVulAJ3HtsOKV9QMyirXnaL/0D7r/wMX/43R52i/8AQPuv/Axf/jdO/kBVq1of/Ias/wDr6j/9CFHnaL/0D7r/AMDF/wDjdWdHl0g6vaiKxuQ32lNpa6UgHcOo2DNJvRgZlFWvO0X/AKB91/4GL/8AG6PO0X/oH3X/AIGL/wDG6d/ICrRVrztF/wCgfdf%2BBi//ABujztF/6B91/wCBi/8Axui/kAaP/wAfb/8AXrP/AOinqrWnpUukG5by7G5B%2BzTctdKePKbP8HpVbztF/wCgfdf%2BBi//ABulfUCrRVrztF/6B91/4GL/APG6PO0X/oH3X/gYv/xunfyAq1a0/wD49L7/AK9R/wCjY6PO0X/oH3X/AIGL/wDG6s2MukG2vNljcgC2G4G6U5Hmp0%2BTjnFJvQDMoq152i/9A%2B6/8DF/%2BN0edov/AED7r/wMX/43Tv5AVa6j4bf8vv8A2z/9mrB87Rf%2Bgfdf%2BBi//G66PwA9k/2v7Hbyx/6vd5swfP3umFGKzqv3GNbnR0UUVyFhRRXNfGYeMz8H/FY%2BHJk/4SH/AIRq%2B/sHyvv/AG37O/kbffzNuKAOlor4L%2BC6fBjXPh38VvAP7O3xEsfC3hvXf2dNIt5tV0CN5JLXxL9l1n7fceRb/v5tTht2sXulUfauLcNhytcTrF18TvFn7Onxe8J/BH4M6JdfCbV7lzqw%2BCXiOxk0i0gg0GN7uCzmvJLFZobif7Otw1vGdoW9i2tMWkIB%2BlVcH4z/AORluf8AgH/oC1Z/Zy1C71X9n7wRqN/od1pk0vhPT2ksL14mlhP2dPlYwvIhP%2B67D3pPFselt4guDcXlwj/JuVLZWA%2BRe5cfyraj8QpbGHRVrydF/wCghdf%2BAa//AByjydF/6CF1/wCAa/8Axyum5BVr8/P%2BCuv7Y39qXMn7GvwzuLu6jd7b/hYTaQ5%2B0XTTn/RNBgZcnz7ojL4BKwqx2uN6V77%2B3B%2B25Y/BF/8AhSPwDWLxB8UtT06S6jtb1FjsPDdgqlpdU1KUORDDGmXCnl8DsRn58/4JKfsc2njnxRL%2B2f8AFzUdR1Ozi1G6l8B3GqWX7/WbyZyLvX50dwVaRhshU/dRQeWAkb47PcdWzGusowL96f8AEl0jFW5l66q681HeTS9bhzJ8Bn9evisxT/szBuLxLTcXWqPWlgaclr7Su1etKN3Qwsas3ac6afvv7Bf7D7fs26RcfE34s2tjc/EvX7SODVGsogLXQLNABFpFkoJEcEQVVJBO9lySQFNfRlaesRaQdXujLfXIb7S%2B4LaqQDuPfeM1W8nRf%2Bghdf8AgGv/AMcr6bA4PD5fhY0KMbRX3t9W31berf6JJXn2eZhxHmc8di2uZ2jGMUowpwiuWFOnBaQp04JQhCKSjFdW5SlVoq15Oi/9BC6/8A1/%2BOUeTov/AEELr/wDX/45XXc8YND/AOQ1Z/8AX1H/AOhCqtaejxaQNXtTFfXJb7Sm0NaqATuHU7ziq3k6L/0ELr/wDX/45SvqBVoq15Oi/wDQQuv/AADX/wCOUeTov/QQuv8AwDX/AOOU7gVataP/AMfb/wDXrP8A%2Bino8nRf%2Bghdf%2BAa/wDxyrOlRaQLlvLvrkn7NNw1qo48ps/x%2BlJvQDMoq15Oi/8AQQuv/ANf/jlHk6L/ANBC6/8AANf/AI5TuBVoq15Oi/8AQQuv/ANf/jlHk6L/ANBC6/8AANf/AI5RcA0//j0vv%2BvUf%2BjY6q1p2MWkC2vNl9ckG2G4m1UYHmp0%2BfnnFVvJ0X/oIXX/AIBr/wDHKSerAq0Va8nRf%2Bghdf8AgGv/AMco8nRf%2Bghdf%2BAa/wDxyncCrVqH/kC3H/X1D/6DLR5Oi/8AQQuv/ANf/jlWYotI/sicC%2Budv2mLJ%2ByrkHbJjjf9aTYGZRVrydF/6CF1/wCAa/8AxyjydF/6CF1/4Br/APHKdwKtFWvJ0X/oIXX/AIBr/wDHKPJ0X/oIXX/gGv8A8couATf8gW3/AOvqb/0GKqtacsWkf2RADfXO37TLg/ZVyTtjzxv%2BlVvJ0X/oIXX/AIBr/wDHKSYFWirXk6L/ANBC6/8AANf/AI5R5Oi/9BC6/wDANf8A45TuBVq1qH/HpY/9ep/9GyUeTov/AEELr/wDX/45Vm%2Bi0g21nvvrkAWx2kWqnI81%2Bvz8c5pN6oDMoq15Oi/9BC6/8A1/%2BOUeTov/AEELr/wDX/45TuBVrvPBn/ItW3/A/wD0Nq43ydF/6CF1/wCAa/8Axyu18JCBfD9uLeR3T59rOgUn527An%2BdY1n7pUdzRooormKCiiigAooooAKKKKACiiigAooooAKKKKACiiigAooooAKKKKACiiigArB%2BIf/IFi/6%2Bl/8AQWrerB%2BIf/IFi/6%2Bl/8AQWq6fxoT2Pi3/gmh/wAS3U/2gvC54%2Bx/tF%2BIpo1/uxzLbso/Q19QV8v/ALCX/Es/ae/aa8MdPK%2BJVrfbf%2BvmyD5/HbX1BXJkOmVwj2c191SoffeKPvcbV6v/AD8p4af/AIHhMI/0CiiivYPz4tTf8gW3/wCvqb/0GKqtWpv%2BQLb/APX1N/6DFVWkgCiiimAVa1D/AI9LH/r1P/o2SqtWtQ/49LH/AK9T/wCjZKT3QFWiiimAUUUUAWtY/wCPtP8Ar1g/9FJVWrWsf8faf9esH/opKq0lsAUUUUwCrWuf8hq8/wCvqT/0I1Vq1rn/ACGrz/r6k/8AQjS6gVaKKKYBVrQ/%2BQ1Z/wDX1H/6EKq1a0P/AJDVn/19R/8AoQpPZgVaKKKYBRRRQBa0f/j7f/r1n/8ART1Vq1o//H2//XrP/wCinqrS6gFFFFMAq1p//Hpff9eo/wDRsdVataf/AMel9/16j/0bHSewFWiiimAV1Hw2/wCX3/tn/wCzVy9dR8Nv%2BX3/ALZ/%2BzVnV/hsa3OoooorjLCiiigAooooAK4Pxn/yMtz/AMA/9AWu8rg/Gf8AyMtz/wAA/wDQFrah8ZMtjLrxv9uT9pe8/Zo%2BCkmqeDtP/tLxt4lvY9D8A6Iih3vdVuDsi%2BU9UTPmNnAIULkFhXsUssUETTzyKiIpZ3c4CgdST2Ffnz4p/aGs/HPijxj/AMFOvE1g2oeFfAQn8J/s8aDLGWGtatM3ky6iidX8yX5FI58pH4DRZrzs8x/1PC8kJcs5p6/yxSvOf/bq%2BHvOUEcrwma51mOGyTKo82Lxc1TppdOZpSm%2BiUE73eidm9IyM2z/AGY08S/EG1/YF8L%2BI7nWfEOuJbeJv2qfiWbhnurlCRJFpCTdUEr/AHYxjEYV8NmQV%2BiGhaHo/hjRLPw34d0yGy0/T7WO2sbO2jCRwQooVI1UcBQoAA7AV4/%2Bwp%2BzVqH7OnwaE3jy8bUPH3i%2B7bXPiFrUxDSXWpTfM8e4fwRbvLUD5eGYAbzXtVTkWXLB4f2so8s520/livhjfq9XKb3lUlJu9kfd8V4vKMDQw/DORtPAYHmjGS/5f1pW9viZdX7SS5abldqjCHWcy1rn/IavP%2BvqT/0I1Vq1rn/IavP%2BvqT/ANCNVa9xbI%2BMCiiimBa0P/kNWf8A19R/%2BhCqtWtD/wCQ1Z/9fUf/AKEKq0uoBRRRTAKtaP8A8fb/APXrP/6KeqtWtH/4%2B3/69Z//AEU9J7AVaKKKYBRRRQBa0/8A49L7/r1H/o2OqtWtP/49L7/r1H/o2OqtJbsAooopgFWof%2BQLcf8AX1D/AOgy1Vq1D/yBbj/r6h/9BlpMCrRRRTAKKKKALU3/ACBbf/r6m/8AQYqq1am/5Atv/wBfU3/oMVVaSAKKKKYBVrUP%2BPSx/wCvU/8Ao2SqtWtQ/wCPSx/69T/6NkpPdAVaKKKYBXeeDP8AkWrb/gf/AKG1cHXeeDP%2BRatv%2BB/%2BhtWNf4Bx3NSiiiuUsKKKKACiiigAooooAKKKKACiiigAooooAKKKKACiiigAooooAKK574u%2BNbn4a/CfxP8AEWy04Xk2geHb3UorQ5/ftBA8oTjnkrjj1rwX4T/tHeK/g5H4wuv2kfjHceJ9F8O/B3w948vdcuNLs7eS0e8bU0uraJLSKJWgJsI2gVw8uXkVpZPlIAPpuuK%2BKfj3wjpev6N8NdQ1qOLXNat7u/0uwZG3XFvaGFLhw2NvyNd24wSCfMyAQrEeWf8ABPH9pPxJ%2B0ZovxGuvGfxZ8LeJ9Q0Tx/5Vrb%2BFNRtLq20ixuNMsLqKyWa2JFwsUs1zD9obJlaGQ8AbF4X/gqPd6l8Jfip%2Bz9%2B1fDetHpnhXx/P4c8RoXAjSw1uFIHnkz/AAxvbxH6la5cZingqPt7XScb%2BUXJJv5J3%2BR5%2BaYyWAwbr2uouN/KLlFSfyUr/JnI/sr/APEq/wCCj37UGhnhLn/hD76Aeu7TJFc/99Yr6gr5m%2BEmm3Glf8FZ/i7pAktw2rfDPQL8/wClxgN5TvBnO7B619R/2Pd/89rX/wADov8A4qnkjSwtSParVX/lRv8A9uP03xJ9/OsJW/nwWBl92FhD86ZVoq1/Y93/AM9rX/wOi/8AiqP7Hu/%2Be1r/AOB0X/xVexdH58E3/IFt/wDr6m/9BiqrWnLpV0dIgj822yLmUn/TIscrH33Y7f5zVb%2Bx7v8A57Wv/gdF/wDFUk0BVoq1/Y93/wA9rX/wOi/%2BKo/se7/57Wv/AIHRf/FU7oCrVrUP%2BPSx/wCvU/8Ao2Sj%2Bx7v/nta/wDgdF/8VVm%2B0q6a2s1Ett8tsQc3kQ/5auePm569qTaugMyirX9j3f8Az2tf/A6L/wCKo/se7/57Wv8A4HRf/FU7oCrRVr%2Bx7v8A57Wv/gdF/wDFUf2Pd/8APa1/8Dov/iqLoA1j/j7T/r1g/wDRSVVrT1XSrqS5Vlltv%2BPaEfNeRDpEo7tVb%2Bx7v/nta/8AgdF/8VSTVgKtFWv7Hu/%2Be1r/AOB0X/xVH9j3f/Pa1/8AA6L/AOKp3QFWrWuf8hq8/wCvqT/0I0f2Pd/89rX/AMDov/iqs6xpV1Jq91IstsA1y5G68iB%2B8eoLZFK6uBmUVa/se7/57Wv/AIHRf/FUf2Pd/wDPa1/8Dov/AIqndAVataH/AMhqz/6%2Bo/8A0IUf2Pd/89rX/wADov8A4qrOj6VdR6vayNLbELcoTtvIifvDsGyaTaswMyirX9j3f/Pa1/8AA6L/AOKo/se7/wCe1r/4HRf/ABVO6Aq0Va/se7/57Wv/AIHRf/FUf2Pd/wDPa1/8Dov/AIqi6ANH/wCPt/8Ar1n/APRT1VrT0rSrqO5Zmltv%2BPaYcXkR6xMOzVW/se7/AOe1r/4HRf8AxVK6uBVoq1/Y93/z2tf/AAOi/wDiqP7Hu/8Anta/%2BB0X/wAVTugKtWtP/wCPS%2B/69R/6Njo/se7/AOe1r/4HRf8AxVWbHSrpba8Uy23zWwAxeRH/AJaoefm46d6TasBmUVa/se7/AOe1r/4HRf8AxVH9j3f/AD2tf/A6L/4qndAVa6j4bf8AL7/2z/8AZqwf7Hu/%2Be1r/wCB0X/xVdH4As5bT7X5rxHd5ePKnR/73XaTis6rXIxrc6OiiiuQsKKK5r4zeIfEvhH4P%2BK/Ffgyz%2B0axpnhq%2Bu9Kt/L3%2Bbcx27vEu3%2BLLqox3zQB0tFfG/gDWviJpngH4oeC/hP%2B0DqNw837N2g%2BKNF8X%2BM/Fst5Dpmu30GtK1%2Bbq6aQW0Li0tZyi4ghEZdYwrkHI0PxnqEumeNvAXjT/hcFhZaJ4202z8FeA7X4oTXGv61qt1oazNpUmqW15LMsSlhfnF5sijbzZmWFTEgB9v1wfjP/kZbn/gH/oC1q/BTQfiD4V%2BDXhLwx8WvFEeueKtN8M2Fr4m1qFcJf6hHbolxcKMDAeUO44H3ug6VS8W2dvL4guJJNVt4ydmUdZMj5F9EI/WtqOkhS2Pl7/gpn8VvEfgP9me4%2BHXw7kz4w%2BJuqW/g/wAKwo2G8%2B9by5ZMjlQsPmnf/CxSvJ/g18KfDnxn/ao8M/BXwlGJ/hV%2Byzp1vZxvt/dax4tMYG9uzNbgM7HqsxPUSVhftlfHW2l/ak8cfG631CG70b9m3wYbHwzCsbul/wCNNYAihVFK/vPKjK7lxlGjJr6n/YY/Zttf2aP2ZPDfw61PV7c69Nbf2l4supfNeW51W5xLcu77DvIY%2BWGPVY1r5WP/AAsZ9Nb04Wv5xhLRf9v1ryfeNFdD6jglrJckzLi9/wAarKWX4N/ypR5sbXj5xjNUINbSqyd7xR6nRVr%2Bz7T/AKDlr/3xL/8AEUf2faf9By1/74l/%2BIr7O6PlA1z/AJDV5/19Sf8AoRqrWnrFjavq907axbKTcuSrLLkfMeDhMVW/s%2B0/6Dlr/wB8S/8AxFJNWQFWirX9n2n/AEHLX/viX/4ij%2Bz7T/oOWv8A3xL/APEU7oA0P/kNWf8A19R/%2BhCqtaej2Nqmr2rrrFsxFyhCqsuT8w45TFVv7PtP%2Bg5a/wDfEv8A8RSurgVaKtf2faf9By1/74l/%2BIo/s%2B0/6Dlr/wB8S/8AxFO6Aq1a0f8A4%2B3/AOvWf/0U9H9n2n/Qctf%2B%2BJf/AIirOlWNqtyxXWLZv9GmGAsv/PJueU7daTasBmUVa/s%2B0/6Dlr/3xL/8RR/Z9p/0HLX/AL4l/wDiKd0BVoq1/Z9p/wBBy1/74l/%2BIo/s%2B0/6Dlr/AN8S/wDxFF0Aaf8A8el9/wBeo/8ARsdVa07GxtVtrwDWLY5tgCQsvy/vU5Pyfhx61W/s%2B0/6Dlr/AN8S/wDxFJNXYFWirX9n2n/Qctf%2B%2BJf/AIij%2Bz7T/oOWv/fEv/xFO6Aq1ah/5Atx/wBfUP8A6DLR/Z9p/wBBy1/74l/%2BIqzFY2o0idP7YtiDcxEttlwPlk4%2B5n/9VJtAZlFWv7PtP%2Bg5a/8AfEv/AMRR/Z9p/wBBy1/74l/%2BIp3QFWirX9n2n/Qctf8AviX/AOIo/s%2B0/wCg5a/98S//ABFF0ATf8gW3/wCvqb/0GKqtactjanSIE/ti2AFzKQ22XB%2BWPj7mf/11W/s%2B0/6Dlr/3xL/8RSTQFWirX9n2n/Qctf8AviX/AOIo/s%2B0/wCg5a/98S//ABFO6Aq1a1D/AI9LH/r1P/o2Sj%2Bz7T/oOWv/AHxL/wDEVZvrG1a2swdYthi2IBKy/N%2B9fkfJ%2BHPpSbV0BmUVa/s%2B0/6Dlr/3xL/8RR/Z9p/0HLX/AL4l/wDiKd0BVrvPBn/ItW3/AAP/ANDauN/s%2B0/6Dlr/AN8S/wDxFdr4SjSLw/bxxzpIBvw6A4Pzt6gH9KxrNOJUdzRooormKCiiigAooooAKKKKACiiigAooooAKKKKACiiigAooooAKKKKAGXNtb3lvJaXcCSxSoUlikUMrqRggg8EEcYrg/hJ%2BzD8F/gbdG8%2BGPh/UbCQwRW5a48Tahd/6NChjgtsXE7j7PCrOIYP9VD5jmNULsT39FAGP4X8BeE/Bepa7q/hrSfs1x4l1j%2B1Nbk8%2BR/tN39mgtvMw7EJ%2B5toF2rhfkzjJYnyb/go78Eh%2B0V%2Bxv42%2BEEVsJbvVNKkbSkx/wAv0Kme2/8AI0cf4Zr3GsH4h/8AIFi/6%2Bl/9BaoqUKeKpSo1Phkmn6NNfqYYrD0sXhZ0KivGacX6NNP8z8yPC/x2u/Dd18Cv%2BCntxetNoPi3wpb%2BAfjBI/IsZROUjvz3RVvI3Dk/wAGwDl6/QUEMAykEEcEV8X/ALOHwl8Ial4r/aS/4Ju/ES0zoNzrba/4egwMx6Zq0Yk/cZ6fZp1Ug9pCDzXof/BOH4t%2BL9Y%2BHGsfs0fGK73ePvg/qQ8P66zk7r6zC5sb5c8lJYAAGPLGMsfvCvFyLEVMPUjSqv8Ai3%2BVan7tRf8Ab6iqi8%2BY%2B2wdefGfhjhcwnrjMrUcNX7yoc8oUav/AHCq89Cb/kq0G%2B59G0UUV9afGFqb/kC2/wD19Tf%2BgxVVq1N/yBbf/r6m/wDQYqq0kAUUUUwCrWof8elj/wBep/8ARslVatah/wAelj/16n/0bJSe6Aq0UUUwCiiigC1rH/H2n/XrB/6KSqtWtY/4%2B0/69YP/AEUlVaS2AKKKKYBVrXP%2BQ1ef9fUn/oRqrVrXP%2BQ1ef8AX1J/6EaXUCrRRRTAKtaH/wAhqz/6%2Bo//AEIVVq1of/Ias/8Ar6j/APQhSezAq0UUUwCiiigC1o//AB9v/wBes/8A6KeqtWtH/wCPt/8Ar1n/APRT1VpdQCiiimAVa0//AI9L7/r1H/o2OqtWtP8A%2BPS%2B/wCvUf8Ao2Ok9gKtFFFMArqPht/y%2B/8AbP8A9mrl66j4bf8AL7/2z/8AZqzq/wANjW51FFFFcZYUUUUAcn4W%2BAfwL8DQzW/gr4LeEtHjuJp5rhNL8OWtuJZJkEczsI4xuaRFCsTyygA5ArKuv2S/2Vb7wjYeAL39mb4fTaDpV5Jd6Xokvgyxa0s7iQFZJYoTFsjdgSGZQCQeTXoNFAFPw/4e0Dwlodn4Y8K6HZ6Zpmn2yW9hp2n2yQwW0KAKkccaAKiqAAFAAAHFeefGnxTYeB7HxB411Q4tdH0yW%2BuSTj93FB5jfopr0%2Bvkn/grl4/b4b/sWfFfXYpSst34cGlRBfvM16YrPA98Tn8qzr4hYTCVa7%2BxCUvuTf52OLMsSsFl9XEP7EZS%2B6Lf5pHxL%2Bxp4Ovf2gvGHwd%2BFOuk3jzahf8Axq%2BLtywyt5qE9y8elRN/wHy5DGcgo5IFfqBXxt/wRa%2BFa6Z%2Bzre/tCaope/8e3kcGnNIPng0bTE/s%2BxgPuqwyHPcMpr7JrzeE8K6OUQrT%2BKok/8At1K0fvV5Pzm2fecYUI5HDAcLU/hyyhCjPzxMkquLm%2B7eIqSp33tQQUUUV9MfGFrXP%2BQ1ef8AX1J/6Eaq1a1z/kNXn/X1J/6Eaq0lsgCiiimBa0P/AJDVn/19R/8AoQqrVrQ/%2BQ1Z/wDX1H/6EKq0uoBRRRTAKtaP/wAfb/8AXrP/AOinqrVrR/8Aj7f/AK9Z/wD0U9J7AVaKKKYBRRRQBa0//j0vv%2BvUf%2BjY6q1a0/8A49L7/r1H/o2OqtJbsAooopgFWof%2BQLcf9fUP/oMtVatQ/wDIFuP%2BvqH/ANBlpMCrRRRTAKKKKALU3/IFt/8Ar6m/9BiqrVqb/kC2/wD19Tf%2BgxVVpIAooopgFWtQ/wCPSx/69T/6NkqrVrUP%2BPSx/wCvU/8Ao2Sk90BVooopgFd54M/5Fq2/4H/6G1cHXeeDP%2BRatv8Agf8A6G1Y1/gHHc1KKKK5SwooooAKKKKACiiigAooooAKKKKACiiigAooooAKKKKACiiigAoqrrut6T4Z0S88Sa9fx2tjp9rJc3tzKcLDFGpZ3PsFBJ%2BleZfDL9rrwh8SdA8Qay/w28Z6JdeH/C1p4kfQ9U0iKbUL7SbuO4e1ubaCymnaQym0uEWA7bgPEVaJSyhgD1esH4h/8gWL/r6X/wBBasT4L/HXTfjHca/osvgPX/C2t%2BGL%2BG11rQPEi2huYDNbR3MMm6zuJ4WR45QRtkLAqwYKRitv4h/8gWL/AK%2Bl/wDQWq6fxoT2PlH9r/8AZF8Q/FLXNM/aJ/Z48UL4W%2BL3hK3KaFrLE/ZtVtgSzabep0kgclsEglC2emRXh%2Bm3F5%2B2F4nm%2BNvwJ1U/CX9qPwBANP8AGHg7V5T9n1aOPH%2BjXUWf9ItH48u4UEoGXJOI2H3ZXjn7TP7D/wAG/wBpm8tfGepi/wDDXjfSlH9g%2BPvC1ybTVLFlztHmL/rUBJ%2BR8gBm2lSc15eZ5PKrKVXDq/M7yjflu1tOEl8FVdJbSWk09zPKMyz3g/Onm%2BRyjzyTjVpTSdKvCSSlGcZJxfMkoyUlyzSXM4zjCpCh%2Byp%2B234V%2BPd7d/Cn4iaG/gf4p6ETF4k8BavKFnDqMme1Y/8AHzbsPmDpnAIJ4Ks3uVfnr%2B0d4A%2BMPh3S4NF/b7%2BBmo/EPStDIPhv9oP4RQC28Q6KqnKy3NsnzptPzMy5iGM4dvmra%2BA37eHxr%2BGnhoanf63bftE/DS0AP/CdeBlC%2BJdHg4x/aelviRio6yAA4BZmYnFceE4glhp/V8cndfa5bSS/vwV/nOnz03u1C9l91h8Jwlx7Wb4bqLCY56yy/ESUJX6/VK1SShXhf4ac5xrJNRjOrZN/fU3/ACBbf/r6m/8AQYqq1xvwL/ad%2BA37TXgG38T/AAQ%2BJuma9Ck8jXVtbzbbq0JWPAmgfEkJ6/eUZxxmuyr6ihWo4ikqlKSlF7NNNP5o%2BSzDLswynGTwmNoypVYO0oTjKMovs4ySa%2B7zTa1CiiitTjCrWof8elj/ANep/wDRslVatah/x6WP/Xqf/RslJ7oCrRRRTAKKKKALWsf8faf9esH/AKKSqtWtY/4%2B0/69YP8A0UlVaS2AKKKKYBVrXP8AkNXn/X1J/wChGqtWtc/5DV5/19Sf%2BhGl1Aq0UUUwCrWh/wDIas/%2BvqP/ANCFVataH/yGrP8A6%2Bo//QhSezAq0UUUwCiiigC1o/8Ax9v/ANes/wD6KeqtWtH/AOPt/wDr1n/9FPVWl1AKKKKYBVrT/wDj0vv%2BvUf%2BjY6q1a0//j0vv%2BvUf%2BjY6T2Aq0UUUwCuo%2BG3/L7/ANs//Zq5euo%2BG3/L7/2z/wDZqzq/w2NbnUUUUVxlhRRXPfF3xrc/DX4T%2BJ/iLZacLybQPDt7qUVoc/v2ggeUJxzyVxx60AdDRXyx4K%2BKn7VOleFviJ4H0Tx23xB8ZWvwJ0jxl4Om1DSrKDGtX8erRizVLaOCNrYzWEDRLITJ88qvMwAZeV%2BHn7RHxy%2BKXxuj/ZV0H41eOtLt/wC1JrxPHviPwNYadrstqmkQTfYmtLmwSBCLqYvva0R2hj2rnInYA%2B0a/Ob/AIOE/Ht14c/Z90fwdpjK1zrXjS2nlgZsCS1srSW6k/8AH0h/Ovtr9lL4oa98bf2Yvh78YfFMFvHqnijwXpmqaktohWEzz2sckhjBJIjLMSvJ%2BUivzP8A%2BDgu/wBS8e/tHeBfgvod%2BqXln4YmvoYRID5j6le2mmqGGf7qy4%2BpPSvnuKq7ocP1%2BXeSUV/29JfomduUZXTz3iLLcqqfDicVhaUr7ckq9J1L%2BXsqdW/lc%2Bx/2EfBP/CvP2Mvhf4TeHy5YPBGnS3MePuzTQLNIP8AvuRq9YpdG8JLoOkWuh6cbVLeytkggT7dF8qIoVR970Aqz/Y93/z2tf8AwOi/%2BKr6nC0o4bC06K%2BzGK%2B5JfoXneY1M5zrFZhPetVqVH/2/UnP/wBuS%2BRVoq1/Y93/AM9rX/wOi/8AiqP7Hu/%2Be1r/AOB0X/xVb3R5Ya5/yGrz/r6k/wDQjVWtPWNKupNXupFltgGuXI3XkQP3j1BbIqt/Y93/AM9rX/wOi/8AiqSasgKtFWv7Hu/%2Be1r/AOB0X/xVH9j3f/Pa1/8AA6L/AOKp3QBof/Ias/8Ar6j/APQhVWtPR9Kuo9XtZGltiFuUJ23kRP3h2DZNVv7Hu/8Anta/%2BB0X/wAVSurgVaKtf2Pd/wDPa1/8Dov/AIqj%2Bx7v/nta/wDgdF/8VTugKtWtH/4%2B3/69Z/8A0U9H9j3f/Pa1/wDA6L/4qrOlaVdR3LM0tt/x7TDi8iPWJh2ak2rAZlFWv7Hu/wDnta/%2BB0X/AMVR/Y93/wA9rX/wOi/%2BKp3QFWirX9j3f/Pa1/8AA6L/AOKo/se7/wCe1r/4HRf/ABVF0Aaf/wAel9/16j/0bHVWtOx0q6W2vFMtt81sAMXkR/5aoefm46d6rf2Pd/8APa1/8Dov/iqSauwKtFWv7Hu/%2Be1r/wCB0X/xVH9j3f8Az2tf/A6L/wCKp3QFWrUP/IFuP%2BvqH/0GWj%2Bx7v8A57Wv/gdF/wDFVZi0q6GkTx%2BbbZNzER/pkWOFk77sd/8AOKTaAzKKtf2Pd/8APa1/8Dov/iqP7Hu/%2Be1r/wCB0X/xVO6Aq0Va/se7/wCe1r/4HRf/ABVH9j3f/Pa1/wDA6L/4qi6AJv8AkC2//X1N/wCgxVVrTl0q6OkQR%2BbbZFzKT/pkWOVj77sdv85qt/Y93/z2tf8AwOi/%2BKpJoCrRVr%2Bx7v8A57Wv/gdF/wDFUf2Pd/8APa1/8Dov/iqd0BVq1qH/AB6WP/Xqf/RslH9j3f8Az2tf/A6L/wCKqzfaVdNbWaiW2%2BW2IObyIf8ALVzx83PXtSbV0BmUVa/se7/57Wv/AIHRf/FUf2Pd/wDPa1/8Dov/AIqndAVa7zwZ/wAi1bf8D/8AQ2rjf7Hu/wDnta/%2BB0X/AMVXa%2BEoXt/D9vDIUJG/JRww%2B%2B3cEg1jWacSo7mjRRRXMUFFFFABRRRQAUUUUAFFFFABRRRQAUUUUAFFFFABRRRQAUUUUAYvxJ8E2HxM%2BHWv/DjVLmSG18QaLdabczRD5o454WiZh7gOSK8Q%2BFvwY/a18DXviD4j6nZfD2bxdL8LtM8KeHoIvEF8dPNxpiX8sF5cE2SyIlzc32JIUDGCKAFXnZyB9E0UAeU/slfC34i/CjwRqGmfFTw/o0fiDU9S/tDXPEOneK5tWuNfvnjRJbu5eWwsxC2I4444Y0MccUccabEjVR3nju5ktdIjkiWMk3IH7yJXH3W7MCK2qwfiH/yBYv8Ar6X/ANBarp/GhPY5f%2B2Lv/nja/8AgDF/8TR/bF3/AM8bX/wBi/8Aiaq0V2WRBa/ti7/542v/AIAxf/E14J8d/wDgnh%2BzF8dvEZ%2BIMnhKfwf4wVzJB4z8AXP9kaikh/5aFoAElf8A2pEY%2B9e40Vz4nB4TGU%2BSvTUl5q9vNdU/NNPzObF4LCY%2Bl7PEU1OPmr2fddU/NNPzPzo%2BO/8AwSr/AGutD1eL4n/C/wAf6B421W2uJDZ%2BIrZz4W8WJgKcG9tf9Hu3OQDNdKzkcZHbnfD/APwVL/4KK/sYSR%2BHf2uv2fL/AMQ6LbFIzqeu%2BHEsbsZONqX9vHJaXQUYy7BWc8kjNfqHN/yBbf8A6%2Bpv/QYqpzQxXETQTxK6OpV0dchgeoIPUV81PhWNGq6uXYidGT8%2BeL9VLf5tvzPpMJxVxRg8DDA1MQsXhoK0aOMh9ZjBdqVWUoYqiuyp4lxXSmfNfwC/4LMfsT/HdILCX4k2fhDVpcBtL8Y6dBZgN0wLjDW7DPT94CeOBX01p3imHV7GLVNJudPuradA8Fxb20DxyKejKyqQR7ivDviz/wAE4/2IPjW0tx46/Zv8OfapyTLf6PbHTrhm/vNJamNnP%2B8T7149B/wR20z4V3L6l%2ByH%2B2H8TfhpNJN5jWUWpC%2BsCfRrcGEyD/ro711UqnE2EVq9KnXXeEvZy/8AAZ3j90keRjcfSqvmp4F032p1lUh8o14U6q9PaT9bK7%2B2P7Yu/wDnja/%2BAMX/AMTVm%2B1W6W2s2EVt81sSc2cR/wCWrjj5eOnaviW90v8A4LW/BSKaXRvFHws%2BMdmkuIU1CyOlalJGPRYzb26E%2B7v%2BNYHif/grx%2B0Z8FoLeD9qb/gm5418O29rAVl1vSb5rm0kG9yWRmgEWASRxM3TrV1OIsDh/wDe6dSl/ipyt/4FDnj%2BKOfDPHYuXLSwlaT7Rpuo/upSqS/8k32ufeH9sXf/ADxtf/AGL/4mj%2B2Lv/nja/8AgDF/8TXxL4G/4LwfsN%2BLmWLV4fGmgvj94NR8OCYL6n/RZJiR74/CvUfCf/BU3/gn540Cf2R%2B1D4fgL9Bq6z2GPr9pjjx%2BNdFDiDIMSv3eJpv/t5L87HLXzTAYTEewxNRUqn8tRSpS/8AAasaUv8AyU%2Bif7Yu/wDnja/%2BAMX/AMTR/bF3/wA8bX/wBi/%2BJrgPDH7Sn7OnjYL/AMIb8fPBerb/ALo03xTaTk/98SGuyt7i3u4VuLWdJY3GVeNgwI9iK9SnUoVlenJSXk0/ybOqlXo1lenNSXk0/wAmzW1XVbqO5VVitv8Aj2hPzWcR6xKe61W/ti7/AOeNr/4Axf8AxNGsf8faf9esH/opKq1aSsaFr%2B2Lv/nja/8AgDF/8TR/bF3/AM8bX/wBi/8Aiaq0U7IC1/bF3/zxtf8AwBi/%2BJqzrGq3Uer3UaxWxC3LgbrOIn7x6krk1mVa1z/kNXn/AF9Sf%2BhGlZXAP7Yu/wDnja/%2BAMX/AMTR/bF3/wA8bX/wBi/%2BJqrRTsgLX9sXf/PG1/8AAGL/AOJqzo%2Bq3Umr2sbRWwDXKA7bOIH7w7hcisyrWh/8hqz/AOvqP/0IUmlZgH9sXf8Azxtf/AGL/wCJo/ti7/542v8A4Axf/E1Vop2QFr%2B2Lv8A542v/gDF/wDE0f2xd/8APG1/8AYv/iaq0UWQGnpWq3UlyytFbf8AHtMeLOIdImPZarf2xd/88bX/AMAYv/iaNH/4%2B3/69Z//AEU9VaVlcC1/bF3/AM8bX/wBi/8AiaP7Yu/%2BeNr/AOAMX/xNVaKdkBa/ti7/AOeNr/4Axf8AxNWbHVbpra8YxW3y2wIxZxD/AJaoOfl5696zKtaf/wAel9/16j/0bHSaVgD%2B2Lv/AJ42v/gDF/8AE0f2xd/88bX/AMAYv/iaq0U7IC1/bF3/AM8bX/wBi/8Aia6PwBeS3f2vzUiG3y8eVAif3uu0DNclXUfDb/l9/wC2f/s1Z1UuRjW51FFFFchYUy5tre8t5LS7gSWKVCksUihldSMEEHggjjFPooA8y8Gfsd/s8%2BANE1Lw34b8FXgsNX0r%2BytTs7/xJqF5HcaeIHgSxYXE7/6LHHJIsUH%2Bqh82Qxqhdia7/sVfs6v4UXwi/hfWSi602rHV/wDhNdW/tZrxrX7G0ral9q%2B2Nm1xblTMV8pVjxsUKPVaKAKXhvw5oPg/w7YeEfCukW%2Bn6XpVlFZ6bYWkQSK2t4kCRxIo4VVVQoA6ACvyM/bAeL46f8FsbTw8uZYtF%2BIPhLTLZhyJbexspdSvYvosrJuHriv2Ar8jf2bPCeoeKf8AgsHrup60DNcaV45%2BI3iWGRl5Fqb9dDhH0VraRQa%2BY4khKvPCYfpOrG/ys/8AP7j6bgaElxphsV9nC0cbiW%2Bzo4KtGn/5VxUPnY/SKiiivtz5UKKKKALWuf8AIavP%2BvqT/wBCNVata5/yGrz/AK%2BpP/QjVWktkAUUUUwLWh/8hqz/AOvqP/0IVVq1of8AyGrP/r6j/wDQhVWl1AKKKKYBVrR/%2BPt/%2BvWf/wBFPVWrWj/8fb/9es//AKKek9gKtFFFMAooooAtaf8A8el9/wBeo/8ARsdVataf/wAel9/16j/0bHVWkt2AUUUUwCrUP/IFuP8Ar6h/9BlqrVqH/kC3H/X1D/6DLSYFWiiimAUUUUAWpv8AkC2//X1N/wCgxVVq1N/yBbf/AK%2Bpv/QYqq0kAUUUUwCrWof8elj/ANep/wDRslVatah/x6WP/Xqf/RslJ7oCrRRRTAK7zwZ/yLVt/wAD/wDQ2rg67zwZ/wAi1bf8D/8AQ2rGv8A47mpRRRXKWFFFFABRRRQAUUUUAFFFFABRRRQAUUUUAFFFFABRRRQAUUUUAFFFFABWD8Q/%2BQLF/wBfS/8AoLVvVg/EP/kCxf8AX0v/AKC1XT%2BNCexxtFFFdpAUUUUAWpv%2BQLb/APX1N/6DFVWrU3/IFt/%2Bvqb/ANBiqrSQBRRRTAKtah/x6WP/AF6n/wBGyVVq1qH/AB6WP/Xqf/RslJ7oDyj4n/sY/sn/ABmMkvxL/Z58JapcTZ8y%2BfRYo7o56/v4wsg/76rw7xp/wRU/ZJ1mAw/D7xB438HRg7orLSPEjXNoD6NDeLMHX/ZyK%2BvqK8zFZJlGMbdahBvvypP71yv8T6zAcd8ZZbhlhqOPqukv%2BXc5e1p/%2BCq0a9Py%2BBadj88PE/8AwRQ8d6UWbwV8TPhn4ltwP3WmeL/hXb2GPZrrTWSVs%2BuBXGz/APBNj43fDiVrl/2AvCmsuDmS6%2BFHxt1XSGb/AGlTUpXGfYCv1BoryKnBmSyd6acX6qX4TjL8xVeJMozB3zXIsuxL/meDhRn/AOB4SWGd/PlufmDd%2BE7v4eShfGHgP9u74fbIk3TeF/Fo1ixi%2BQctIi8p6cdMVPo3x%2B%2BDdreDSbL/AILF/GHwpfDpY%2BP/AAfJM6f7zS24T82r9QdY/wCPtP8Ar1g/9FJWVrOgaF4jszp3iHRbS/t2%2B9Be2yyof%2BAsCKyXC9Wkv3NZfOM1%2BNOtH/0n5GfsfCLFfxsiq0H3w2PrxXyhXjVXyUvmfDvhHxV8ZvEmxfhr/wAF2vAOsFseXp%2BqeCNC84/X9%2BJP/Ha9D0zwD/wVPmtBfeFP2xfhP4igP3JrvwY8aP8AjbuR%2BVeq%2BLv2Gf2NfHW5vE/7LvgSeR/v3EXhi2hlP/bSNFb9a881T/gkJ%2BwPc3R1Lw/8IL3w/eHpeeH/ABVqNs6/QCcoP%2B%2Baf9kZtS21/wANevH8JqovxD/VjwgxP8LH5nhn/eVKul84V6bt/wBu38it9i/4LLaX/wAe%2Bt/s46oo6/arbXIHP02cZqxqvjb/AILCadqdydV%2BCXwP1KQTv5g0vxJqMILbjnHnDpn1qD/h2Bo%2BifN8N/20fj54b2/6u2s/iI0tsPrHLEc/nU%2Bq/sV/ts%2BGdUuY/AX/AAVF8WKY53C/8JN4F07VC%2BGP3i5Xr60vq%2Ba03rCv/wBu16cv/SoRF/xD7gyt/unFU4%2BVajiofe1SxC%2B4r/8AC8v%2BCqWnf8fn7C3grUcdf7P%2BJsUOfp5qUf8ADVf/AAUgsONV/wCCWZmUdZbD4zaU%2BfopjzS/8Ko/4KyeHP8AkDftY/DHxJt6f8JD4Fks9/1%2ByscfhR/b/wDwWH8PD/iZeAPgF4hVen9karqto7D388YB/Sn7TGQ%2BKWKj/wBuUp/kmH/ELK1T/dOJ8LP1xEYP7q2Ch%2BMkIP22v2x7L/kN/wDBL3xpHjr9g8Y6fc/ltAzVjSv%2BChXxv03VLabV/wDgml8Z8pOjFNPsba5LYYcDbIMmoP8Ahov/AIKd6D/yGf8AgnRoetKv3n0P4tWUH4hZ0JP0qfSv26v2r9C1S2l8Xf8ABMH4iIY7hCyaHr9jqJOGHC7CuaHjKkVriq0f8WH/AMqYf8Qh45l/u%2BZUKv8AhxWXS/B1qb/BFf8A4eXa1af8hf8A4J3ftIx%2BptPhys4H/fM4oP8AwVL8HQf8hT9jf9oax9ftfwtkGPymNL/w8yu9MO3xb%2BwH%2B0Tp%2BPvTRfDoXEK/V0n/AKUf8PZ/2dLL/kafht8VNDx97%2B1vh1dpt%2BuwNR/acY75il/iopfmoh/xBzxdf8KnKp/ghhan/prFzf4Cf8PYPghF/wAhD4HfGS09ftPw2uRj8iaP%2BHt/7MMf/H54P%2BJdv6%2Bd8PL0Y/JTUkP/AAWL/wCCe4kFvrHxqvdLlP8Ayy1HwfqsZ/MWxA/OtvTP%2BCqf/BPnVsfZf2n9CTP/AD829zB/6MiWrjmik7RzOi/%2B3Yf/ACxGFbwk8Z8MrzwGIS7/AFGo198W19zMjTf%2BCv8A%2Bx9a3DPdx%2BOogYJV%2BfwBqHUxsB0j9TVcf8Ffv2Mv49S8Yr/veA9R/wDjVej%2BGf8Agob%2BwvqFyzQ/tZ%2BAYw1tMAbrxLbwcmJgB%2B8Ze5rV0/8AbA/ZL1bH9lftRfDq5z08jxtYP/KWuiGJxU37uPov/t2P/wAuPIr8DeJuF/jYerH1wVdfpb8TyP8A4e//ALF/bVfGB/7kPUf/AI1R/wAPff2NO1/4y/8ACC1H/wCNV7tY/Hb4Iapj%2BzPjJ4Uuc9PI8Q2z5/J62bLxn4P1LH9neK9NuM9PIvo3z%2BRrojHNZ/Di6b9Kaf8A7lPJrZJxhh/4s%2BX1w01%2BckfOH/D339jMcnUPGQHqfAWo/wDxqrFn/wAFh/2Jobe7SbXvFqGS3Cru8B6l18xD/wA8fQGvphHSRQ8bhgehByDVvT/%2BPS%2B/69R/6NjrR4fO7f7xD/wV/wDdDj%2Bq8QL/AJiYf%2BCf/up8qf8AD4b9hpf9b4y8Sp/v%2BBtT/wDjFH/D4r9g4cN8RNeX2PgjVP8A5Hr6hop/V88/6CIf%2BCn/APLA%2BrcQf9BNP/wS/wD5afL3/D4r9gzoPiNrpPoPBGqf/I9e8/sS/tifAn9rL/hJv%2BFKa9qF9/YH2L%2B0/t%2Bh3Vls8/z/AC9vnxpvz5L525xgZxkV1FdR8Nv%2BX3/tn/7NVRo5rGV61aEo9Uqbi/v53b7jfC0c4hXTr14Sj1SpuL%2B/2kra%2BTOoooorU9cKKKxPiV43sfhn8Odf%2BJGp2sk9t4f0S71K4hiOGkSCFpWUe5CECgDbor5n0j9rD49eFPh58Rbz4naR4N1HxH4X%2BDNj4/0VdKWXTLBvtUOpf8S%2B4kubiXHlS6fg3W6NXScHy4thz55qP/BRb432fh64jjbSGltvFN5p41w/B7xB9tlhh0O31JVbwx9q/tO2y8zxm5kfylREkKhJo2oA%2B26%2BH/h3DD4y/wCCuHx38XQRL5Xg3wZ4c8Owui4G66jN/KB77wS3uea%2BwPhL4w1D4hfCrwz4%2B1awtLW71zw/ZahdWun6gl3BDJNAkjJHOmVmQFiFkXhgAw4NfJH7BPh/X/EfxX/aR%2BKt3pU7y6p8fdY0mKRIi2%2B300JbRnIH%2B%2BMdsV52KXtMwwlPpzyl/wCAQl%2BskffcJyjhOGM/xl9fq9KivXEYqmn/AOSUJJ%2Bp9D0Va/sPWv8AoD3X/gO3%2BFH9h61/0B7r/wAB2/wr6C67n56VaKtf2HrX/QHuv/Adv8KP7D1r/oD3X/gO3%2BFF13ANc/5DV5/19Sf%2BhGqtaesaPq8ur3UsWlXLK1y5VlgYgjceelVv7D1r/oD3X/gO3%2BFJNWWoFWirX9h61/0B7r/wHb/Cj%2Bw9a/6A91/4Dt/hTuu4Bof/ACGrP/r6j/8AQhVWtPR9H1eLV7WWXSrlVW5QszQMABuHJ4qt/Yetf9Ae6/8AAdv8KV1fcCrRVr%2Bw9a/6A91/4Dt/hR/Yetf9Ae6/8B2/wp3XcCrVrR/%2BPt/%2BvWf/ANFPR/Yetf8AQHuv/Adv8Ks6Vo%2Brx3LNJpVyoNtMMtAw5MTADp60m1bcDMoq1/Yetf8AQHuv/Adv8KP7D1r/AKA91/4Dt/hTuu4FWirX9h61/wBAe6/8B2/wo/sPWv8AoD3X/gO3%2BFF13ANP/wCPS%2B/69R/6NjqrWnY6Pq6W14r6VcgtbAKDA3J81DgcegP5VW/sPWv%2BgPdf%2BA7f4Uk1d6gVaKtf2HrX/QHuv/Adv8KP7D1r/oD3X/gO3%2BFO67gVatQ/8gW4/wCvqH/0GWj%2Bw9a/6A91/wCA7f4VZi0fVxpE8R0q53G5iIXyGyQFkyenuPzpNruBmUVa/sPWv%2BgPdf8AgO3%2BFH9h61/0B7r/AMB2/wAKd13Aq0Va/sPWv%2BgPdf8AgO3%2BFH9h61/0B7r/AMB2/wAKLruATf8AIFt/%2Bvqb/wBBiqrWnLo%2BrnSIIhpVzuFzKSvkNkArHg9PY/lVb%2Bw9a/6A91/4Dt/hSTXcCrRVr%2Bw9a/6A91/4Dt/hR/Yetf8AQHuv/Adv8Kd13Aq1a1D/AI9LH/r1P/o2Sj%2Bw9a/6A91/4Dt/hVm%2B0fV3trNU0q5JW2IYCBuD5rnB49CPzpNq61AzKKtf2HrX/QHuv/Adv8KP7D1r/oD3X/gO3%2BFO67gVa7zwZ/yLVt/wP/0Nq43%2Bw9a/6A91/wCA7f4V2vhKCe28P28NxC8brv3I6kEfO3Y1jWacSo7mjRRRXMUFFFFABRRRQAUUUUAFFFFABRRRQAUUUUAFFFFABRRRQAUUUUAc18Zh4zPwf8Vj4cmT/hIf%2BEavv7B8r7/237O/kbffzNuK%2BG/Bus%2BAbP4I/GLRf2QNRtoNPvv2cNH8q08MTbLm48TJbaw2o%2BWkZ8x9XW1Nmbjg3AY2vmfNiv0JooA%2Bef2HP%2BFV/wDCbfFE/s2Joo%2BGH9s6X/wjn/CLiMaUb7%2BzYvtv2Tyv3W3/AI9vM8vjzhLu/eeZXtnjtbVtIjF3NIi/aRgxxhjna3YkVtVQ8RaJ/b1ktn9q8rbKH3bN2cAjHUetVBpSTYnscR5Oi/8AQQuv/ANf/jlHk6L/ANBC6/8AANf/AI5W9/wrb/qNf%2BS3/wBlR/wrb/qNf%2BS3/wBlXT7SHcmzMHydF/6CF1/4Br/8co8nRf8AoIXX/gGv/wAcre/4Vt/1Gv8AyW/%2Byo/4Vt/1Gv8AyW/%2Byo9pDuFmZUsWkf2RADfXO37TLg/ZVyTtjzxv%2BlVvJ0X/AKCF1/4Br/8AHK6N/AG%2Byjs/7W/1crvu8jruCjH3v9n9ai/4Vt/1Gv8AyW/%2BypKpDuFmYPk6L/0ELr/wDX/45R5Oi/8AQQuv/ANf/jlb3/Ctv%2Bo1/wCS3/2VH/Ctv%2Bo1/wCS3/2VP2kO4WZg%2BTov/QQuv/ANf/jlWb6LSDbWe%2B%2BuQBbHaRaqcjzX6/PxzmtX/hW3/Ua/8lv/ALKpbjwB58UEX9rY8mIpnyOvzs2fvcfex%2BFJ1IX3CzOc8nRf%2Bghdf%2BAa/wDxyjydF/6CF1/4Br/8cre/4Vt/1Gv/ACW/%2Byo/4Vt/1Gv/ACW/%2Byp%2B0h3CzMHydF/6CF1/4Br/APHKPJ0X/oIXX/gGv/xyt7/hW3/Ua/8AJb/7Kj/hW3/Ua/8AJb/7Kj2kO4WZlarFpBuV8y%2BuQfs0PAtVPHlLj%2BP0qt5Oi/8AQQuv/ANf/jldHeeAPtcol/tbbiJEx5GfuoFz972zUX/Ctv8AqNf%2BS3/2VJVIW3CzMHydF/6CF1/4Br/8co8nRf8AoIXX/gGv/wAcre/4Vt/1Gv8AyW/%2Byo/4Vt/1Gv8AyW/%2Byp%2B0h3CzMHydF/6CF1/4Br/8cqzrEWkHV7oy31yG%2B0vuC2qkA7j33jNav/Ctv%2Bo1/wCS3/2VS33gD7bezXn9rbfNlZ9vkZxk5x96l7SF9wsznPJ0X/oIXX/gGv8A8co8nRf%2Bghdf%2BAa//HK3v%2BFbf9Rr/wAlv/sqP%2BFbf9Rr/wAlv/sqftIdwszB8nRf%2Bghdf%2BAa/wDxyrOjxaQNXtTFfXJb7Sm0NaqATuHU7zitX/hW3/Ua/wDJb/7KpbHwB9ivYbz%2B1t3lSq%2B3yMZwc4%2B9SdSFtwsznPJ0X/oIXX/gGv8A8co8nRf%2Bghdf%2BAa//HK3v%2BFbf9Rr/wAlv/sqP%2BFbf9Rr/wAlv/sqftIdwsznp7Lw9cxmG5uZ5EPVHsUIP4GSsTU/hN8Ftbz/AGz4I0u7z1%2B1eG7aTP8A30xrvP8AhW3/AFGv/Jb/AOyo/wCFbf8AUa/8lv8A7Kpk6E172vqr/mjejiMVhnejOUX/AHZSj%2BUkeVj9kz9kTW7lxq37PPgm9zbyki88B2DjiNjn5geR1HuO3Wua1D9gP9gnUs/af2WvAq56%2BR4Fsov/AEDFe/WfgD7JKZf7W3ZidMeRj7yFc/e981F/wrb/AKjX/kt/9lXLLB5ZN%2B9Sg/WEf/kD2KHFXFeG/g5hiI%2BleuvyrL8j5svv%2BCYn/BOzUcm4/Zp8Prn/AJ4aT5X/AKBMKx77/gkX/wAE0tQz5/7O1uuf%2BeF5exf%2BgXgr6r/4Vt/1Gv8AyW/%2Byo/4Vt/1Gv8AyW/%2ByrCWU5HP4sPTf/bkf/kT1aPiP4i4f%2BHnGKXpia3/AMsZ8hP/AMEaf%2BCaasZNP%2BDWqWTHq1p4l1Rf53xqW1/4I8fsMJBcvpUXjqy8uEMPsnjK/Xb86jjNyc9eh%2Bvavrj/AIVt/wBRr/yW/wDsqlt/AHkRTxf2tnzogmfI6fOrZ%2B9z93H41k8j4f6YeC9IpflY7V4r%2BJ/2s6xT/wAVacv/AErmPjz/AIdJ/stw/wDIM%2BLXxfsvT7L45uRj85DQP%2BCU/wAGIf8AkHftX/tAWfp9m%2BIUgx%2Bea%2Bvv%2BFbf9Rr/AMlv/sqP%2BFbf9Rr/AMlv/sqP7EyLpRS9OZflJB/xFXxHfxZnUfqqUv8A0qhI%2BQv%2BHXXhGL/kH/t%2B/tPWvoLf4kgfzjNe5fsX/syp%2Bzl/wkqx/tH/ABP%2BIK6x9jwPiT4gW/Nh5Xn/APHuQo2b/N%2Bf18tPSvS/%2BFbf9Rr/AMlv/sq1PDfhv/hHvO/03zvO2/8ALPbjGfc%2BtaU8ryvDTVSjC0ltrP8AJza/A8/NOPuMM7wM8HjsV7SlO106eHV7NNe9DDQmtUtprs7q6epRRRXSfIhVXXNF0rxJot54d12xjurG/tZLa8tpRlZonUq6H2Kkg/WrVFAHh%2Bh/sHfDrT/CPiLwV4j%2BJfjPxDaeJ/B8PhXVJNavbMznRreGeO0tElgtY2XyDdXMiS585pJmaWSXChY3/YT8OnXpPiHH8e/iDH45nu55Lrx9FNpS6jNby2kFq9oYxYfY1h8u2gYbLdXDx7w%2B4sT7pRQBjfDvwF4X%2BFfw/wBC%2BF/gjTzaaL4b0a10vSLUyF/JtbeJYYk3NkthEUZPJxXmPhX4O%2BE/grd6/ofhGS6ePWvFep%2BIb%2BS8kVna71C6e7mAKqoCK8pRBjIRFBLHLH2esHWvBP8Aa%2Bpy6j/afl%2BZt%2BTyc4woHXcPSqpxp%2B1U5LVXs%2B17X%2B%2BxvHFYmnhqmHhNqE3FyXSXI243/wALk2vNs42iuo/4Vt/1Gv8AyW/%2Byo/4Vt/1Gv8AyW/%2Byrq9rT7nLZnL0V1H/Ctv%2Bo1/5Lf/AGVH/Ctv%2Bo1/5Lf/AGVHtafcLMwdc/5DV5/19Sf%2BhGqtdbfeAPtt7Nef2tt82Vn2%2BRnGTnH3qi/4Vt/1Gv8AyW/%2BypKrC24WZy9FdR/wrb/qNf8Akt/9lR/wrb/qNf8Akt/9lT9rT7hZmDof/Ias/wDr6j/9CFVa62x8AfYr2G8/tbd5Uqvt8jGcHOPvVF/wrb/qNf8Akt/9lS9rC%2B4WZy9FdR/wrb/qNf8Akt/9lR/wrb/qNf8Akt/9lT9rT7hZnL1a0f8A4%2B3/AOvWf/0U9b3/AArb/qNf%2BS3/ANlUtn4A%2BySmX%2B1t2YnTHkY%2B8hXP3vfNJ1YW3CzOSorqP%2BFbf9Rr/wAlv/sqP%2BFbf9Rr/wAlv/sqftafcLM5eiuo/wCFbf8AUa/8lv8A7Kj/AIVt/wBRr/yW/wDsqPa0%2B4WZg6f/AMel9/16j/0bHVWutt/AHkRTxf2tnzogmfI6fOrZ%2B9z93H41F/wrb/qNf%2BS3/wBlSVWF9wszl6K6j/hW3/Ua/wDJb/7Kj/hW3/Ua/wDJb/7Kn7Wn3CzOXq1D/wAgW4/6%2Bof/AEGWt7/hW3/Ua/8AJb/7KpU8AbLKSz/tb/WSo%2B7yOm0MMfe/2v0pOrDuFmclRXUf8K2/6jX/AJLf/ZUf8K2/6jX/AJLf/ZU/a0%2B4WZy9FdR/wrb/AKjX/kt/9lR/wrb/AKjX/kt/9lR7Wn3CzMGb/kC2/wD19Tf%2BgxVVrrX8Ab7KOz/tb/Vyu%2B7yOu4KMfe/2f1qL/hW3/Ua/wDJb/7KkqsO4WZy9FdR/wAK2/6jX/kt/wDZUf8ACtv%2Bo1/5Lf8A2VP2tPuFmcvVrUP%2BPSx/69T/AOjZK3v%2BFbf9Rr/yW/8AsqluPAHnxQRf2tjyYimfI6/OzZ%2B9x97H4UnVhfcLM5Kiuo/4Vt/1Gv8AyW/%2Byo/4Vt/1Gv8AyW/%2Byp%2B1p9wszl67zwZ/yLVt/wAD/wDQ2rL/AOFbf9Rr/wAlv/sq3tF03%2ByNMi07zvM8vd8%2B3GcsT0yfWs6s4yjZDSaZaooornKCiiigAooooAKKKKACiiigAooooAKKKKACiiigAooooAKKKKACiiigAr57%2BLH7UfxU8HfFnXY/Ddj4ePg/wX4n8J6D4jtL6wnfUb%2BfWru3gaa3nWdY7dLdLy2k2tDKZisqZj%2BVq%2BhK8t8d/smeA/H/AMUx8TtS8U%2BILWK4vtHvtb8NWVxbrp2sXelXH2jT7i4DwtMHhlEbfupY1k8iJZBIqAUAepUUUUAFFFFAHz/8Of2lfiHrv7VXiL4R/EDxVouiaVbeLLnSfCejT/DjVYp9bSLTILzdFrMl19ikmBa4cwJEZPKtnOAFZx9AV5vdfs16Vqnxg0/4seIfil4v1S30bXJdZ0LwnqF/byaZpuoSWUlk08X7gXOPJnuAsLztCjTsyxghCvpFABRRRQBxP7SHjL4jfDz4EeK/Hfwn0/RbnX9G0We9sY/EMkos18pS7vIIfnk2oGYRgp5jAJ5kYYyL4r4c/bJ%2BMmua5B4uk0vwxH4S0zxp4V8IeItOGnXB1C41DWdN0y6F3b3H2jy4oY5NZsk8l4pGZY5j5q/KK96%2BMfw1b4w/DTV/hm3jnWfDsOtWT2l3qegJaG6WCRSsiL9rgniG5SVJMZIBypU4I8y8CfsGeBfBOs6Tqd18XPG2t2%2BnajYane6Vqs2nLa6vqVjbrbWV9crbWUTGWGCK1jURNHG32K3aRHdC7AHudFFFABXln7YnxY%2BKvwS%2BDMnxG%2BE%2Bk6BdXNlrFimqHxC05jispbhIpDFHCVMspLqqhnRV3FyX2CKT1OuB/aO%2BAsH7R/w5k%2BGWo/E/xJ4Xsbi6hmvJ/DCWBmuBFIsiRsb21uFVQ6I3yKrEqBuwSCAee/Az9pX4h%2BN/j/4g%2BG3xM8U6LpEUHiTW9P8ADXht/hxqtncajbWc21JotWnujaXb%2BViV4oYtwVt2FVSa%2BgK8r8I/ss22hfELSPiJ4v8Ajj478YzeH7i7u9DsPFF5Yvb2V7cwtDPdJ9ntIZCzJJOqxs5hiWd0ijjQIqeqUAFFFFAHjH7Znxe%2BOPwO8CTfEj4Wt4Qaz03TpnGk69Z3Vzf%2BI9VZ4ksdGskhliWGW5dnjE7GYq7R/uGXcRh/so/tR/FT4wa54Qk%2BJFj4eXTfid8Ll8eeDotEsJ4J9Ls/NtQbO7eWeVbmURajZnzo1hUssw8vG0123xl/ZpT4v/Enwz8UoPjT4u8M6j4StbyLR4dCg0me3SS5CLJcmPULG5AuBGhiWVdrLHLMgwJX3RfAz9kzwH8BNcTWvD3irxBqqafoC6D4YsdbuLd4fD2kLL5osLQQwRt5WREu6ZpZNtvCu/CAUAepUUUUAFfOX7dH7RX7Sv7N%2BlN4y%2BFem%2BDNWgn%2By2fh3wddabe3es%2BILt2ka8kjMM8SwRWlsv2plCTGVIJlLQEo1fRteSfEX9kuD4gfGS7%2BNMHx88eaDfXnhuPQXsdCk0tYoLESPJKlvLNYyXVo8zODJJBNHIxhhIYGGMqAL%2ByR8avEHxj8KX03jXx7pOqa7YG1OpaXYfD/AFPw3PpnnQLIqy22pXE00it8xSddsbhTt3bSa9arg/g98BrD4Ta1rni7UPiJ4j8XeIPEMdnDqfiDxQ9p9oe3tVkW3t1Wzt7eFUQzTvxHuZpnLM2RjvKACiiigD5S/a3/AGxP2if2bfjD4c8DWOn%2BELy18eeKbHQPC9td%2BHNTRLA300dnbXk%2BpNMlteSrdvuk0u3RbgW%2B6YSBI2c%2Bz/s5/E/xr8QLLxZ4Y%2BJI0uTxB4I8Yz6Dql9olnJbWl7i2tryGeOGWWZ4c295CGQyyYdXwxGK5P4r/sF/Dz4zeI/7Y8afFTx09ja%2BJv8AhJtA0GLVbb7LoevCExRanas9s06yRFnkSKSWS2WRy3k9Mei/Bz4P6L8GvD19pGneINU1m91fWLjVdc13W3hN3qV5NtDSyeRFFEuESONVjjRVSJFC8UAdbRRRQAV8b/HD9s79rf4UftAad8EI7TwrL/at0095e2Pwr8QaidFsvMHleRHHcxya%2BTHJEJZ7NY47WXbHKu6eMD7Irw2T9hnSk8XWPjnTP2kvihZ6loMd9B4Rni1ewk/sK1vLiOe6tYxNZOLuKQwwLtvvtRRYY/LKMoagD0z4NeN7T4kfC7RfG9l4y03xAmoWQkbWNI0yWyt7hwSr7beaSWS3IYMrRSOzoysrYIIHTVzXwh%2BFfhv4K/Dyw%2BG/hW4vJ7WxaeWS81GYSXF3cTzPcXFxKyqqmSWaWSRtqqu5ztVRgDpaACiiigAooooAKKKKACiiigDE%2BJXjex%2BGfw51/wCJGp2sk9t4f0S71K4hiOGkSCFpWUe5CECvMf2ZvjZ8YvGXjbUPhr8b4/DcmqJ4F0DxXZXXhfT7i2hih1J76J7J1nnmMjwSWR/fgoJVmX91GVOfX9c0XSvEmi3nh3XbGO6sb%2B1ktry2lGVmidSrofYqSD9a4H4C/szeGPgJdXuq2PjfxJ4k1G80bTdGTU/E9zbyz2%2Bl2An%2Bx2SGCCEFIzc3Db3DzO0zGSRzjAB6RRRRQAVwP7UvxG8cfCL9nTxn8Tvhpo8F/r%2Bh%2BH7i80izutPmu45Z0XKhoYHSSUZ/gRlY9ARXfVleOfCo8ceENR8Jf8JHqukHULVoU1XQ737PeWjH7ssMmCFdTgjIZTjDKykggHJfs3fFC7%2BKXg3UL3V/iDpmv6lpetSWGp/2f4Iv/DslhKIopBbz2GoTzXEUuyVJQXKh45o2VdpDN6FXGfBv4K6V8HYdeuk8X614i1fxRrQ1XxD4g8QNbfar24W2gtI8rawwwRqkFtBGqxxIMJuOXZmbs6ACiiigD59/a9/au%2BJ37L/jKLXB4U0K/wDBVt8OPE3iC%2BVppjqd1d6VYveeTGRiKCLYqruIlZzKeIhHmXrfgJ8Tfi3qnxF8XfBT44z%2BHLzX/DOm6Rqi6p4V0yeztJrXUFuVWMwzzzuJI5rK5BfzMOhjO1DkVX%2BPn7H/AId/aL8bab4o8cfFjxZb6XYaVe6ZP4S0%2BPS/7Ov7S9i8m9hmM1lJckTw/u2KTIVXmMo3zV0PwV%2BAWk/Bm51jWpfHviLxXreu/ZU1LxD4qntnu5ILaLyre3/0aCGMRxhpGHybmeaRmZmYmgDvKKKKACvmf9pP9qT9pP4S/Ebxt4T8JeFvDE1jpng7SdW8Kuuj3%2Bq3jmfVYbK5muYLeSJpFRZJWW3h%2BbEIcynzDHH9MV4747/ZDufHHxivvjRF%2B038SdEvrvRo9Mi0/QZtIgt7S3jmE8axs2ntOcTgSESSusnMcgeFmiIB0/7O3xKl%2BKXw8OvXvj3TfEF7balcWeoz6b4SvdCNrPG2DbzWF9NLcW8qgrlZGBIZWCgMM93XIfBv4N6N8GdG1SysvEura5qGu63Nq%2Bva9rrwG71G8kSOLzHFvFFCm2KGGJVjjRQkS8ZyT19ABRRRQB8ofET9qz9q3wd%2B1T4T/Zbs5fhzcah4/vr%2BO2vrPRb%2B6i8Fxwx3N5ZrqB%2B1xG/lvbGxvmjVBabJbV/9YmGPun7NXxV1n4zfBzTvHHibTrW11Zb3UNM1iKw3fZze2F9PY3DxByWETS20jIGJIVlBJIyfPtN/YF0bS7661W2/aQ%2BIv2yTxhc%2BKrG%2BaLQvtFhrE/mI92kv9l75iLWaayWO4M0a2snlBPkiKes/CX4X%2BGvgz8O9M%2BGnhJ7qSy0yJgLm%2BmElxdSu7SzXErgANLLK7yOQACzsQAOKAOjooooAjumuUtZHsoUkmEZMMcshRWbHALAEqCe%2BDj0PSvi3xR%2B25%2B1t4K%2BOL/B/xXrPgRdK0rRxdeK/Hfhn4Ua/r1hpGo%2BSZZtGaG0vhIZLePyZnu2KKY7qPdDCVbP2hqNpLf6fPYwahNaPNC0aXVtt8yEkEB13qy7h1G5SMjkEcV4R4N/YOn8A%2BALL4beFv2wPi1aabYWU9pEIZdBRpY58m5ebZpQFxPK581rmUPcCTeyyoZZvMAPcPDerWmv%2BHbDXdP1i01GC9sop4NQsP9RdI6BhLH8zfIwIZfmbgjk9au1meCfB3h34d%2BDNI%2BH/AIQ08Wmk6Fplvp%2Bl2iuWENtDGscaZYknCKoyTnitOgArK8bnxsPCOoj4brpR142rDSTrbSC0WcjCtMIhvZAeSq4LYxuXO4atYnxI8Caf8TfA2p%2BA9T1fU9Pi1K2MX9oaNem3u7V8hklhkGdrqwVhkFSRhgwJBAPjzw1/wUS/aI1u5%2BKs8Vj4Ql074H6fZ6z4rmvfB2p6Xfa/p1w858uKwubzz9FuI47G9wLoTmYG1lWNY5ga%2B3q%2Be/8Ah3N8MrnxL4g8Ya38XPHeo6n43uLVviRc3N3pyDxfBbCFba1vEiskSOGKOHylFqtuzJLKHZzIxP0JQAUUUUAct8ZtU%2BIui/D691f4YXGlwaja7ZprrVtGvNSSC1Q752jsrIrPeTeWrCOCN0Z3KgHPyt8xfsqft5fGf4zfEVNM%2BLWv%2BF/DGjP4hXSNIRfhjrIGuyYlUf8AExe9NtplzI8ZH2C4V54ZA9u%2B6VGr6g%2BK3w0i%2BKfhqHQl8aa74durTUYL7T9a8OXUcV1azxNuUgTRyQyqRuVo5Y5EZWIK5wR5p4P/AGEfBfhG8sI3%2BM3j/VdItfFf/CU3vhzV9Ts5bLUddN1JeNqEm21WWJjdv9oMFvJDbeYikQj5gwB7jRRRQAUUUUAFFFFABRRRQAUUUUAFFFFABRRRQAUUUUAFFFFABRRRQAUUUUAFFFFABRRRQAUUUUAFFFFABRRRQAUUUUAFFFFABRRRQAUUUUAFFFFABRRRQAUUUUAFFFFABRRRQAUUUUAFFFFABRRRQAUUUUAFFFFABRRRQAUUUUAFFFFABRRRQAUUUUAFFFFABRRRQAUUUUAFFFFABRRRQAUUUUAFFFFABRRRQAUUUUAFFFFABRRRQAUUUUAFFFFABRRRQAUUUUAFFFFABRRRQAUUUUAFFFFABRRRQAUUUUAFFFFABRRRQAUUUUAFFFFABRRRQB//2Q%3D%3D\">"
            ]
          },
          "metadata": {
            "tags": []
          }
        }
      ]
    },
    {
      "metadata": {
        "id": "jMCUrph7Ow9n",
        "colab_type": "text"
      },
      "cell_type": "markdown",
      "source": [
        "# Submit a linear model"
      ]
    },
    {
      "metadata": {
        "id": "RV5thQylOw9p",
        "colab_type": "code",
        "colab": {
          "base_uri": "https://localhost:8080/",
          "height": 2802
        },
        "outputId": "ec0c3e67-4892-4de1-c751-f995004395af"
      },
      "cell_type": "code",
      "source": [
        "## GRADED PART, DO NOT CHANGE!\n",
        "# Testing shapes \n",
        "grader.set_answer(\"9XaAS\", grading_utils.get_tensors_shapes_string([W, b, input_X, input_y, logits, probas, classes]))\n",
        "# Validation loss\n",
        "grader.set_answer(\"vmogZ\", s.run(loss, {input_X: X_val_flat, input_y: y_val_oh}))\n",
        "# Validation accuracy\n",
        "grader.set_answer(\"RMv95\", accuracy_score(y_val, s.run(classes, {input_X: X_val_flat})))"
      ],
      "execution_count": 142,
      "outputs": [
        {
          "output_type": "error",
          "ename": "FailedPreconditionError",
          "evalue": "ignored",
          "traceback": [
            "\u001b[0;31m---------------------------------------------------------------------------\u001b[0m",
            "\u001b[0;31mFailedPreconditionError\u001b[0m                   Traceback (most recent call last)",
            "\u001b[0;32m/usr/local/lib/python3.6/dist-packages/tensorflow/python/client/session.py\u001b[0m in \u001b[0;36m_do_call\u001b[0;34m(self, fn, *args)\u001b[0m\n\u001b[1;32m   1333\u001b[0m     \u001b[0;32mtry\u001b[0m\u001b[0;34m:\u001b[0m\u001b[0;34m\u001b[0m\u001b[0;34m\u001b[0m\u001b[0m\n\u001b[0;32m-> 1334\u001b[0;31m       \u001b[0;32mreturn\u001b[0m \u001b[0mfn\u001b[0m\u001b[0;34m(\u001b[0m\u001b[0;34m*\u001b[0m\u001b[0margs\u001b[0m\u001b[0;34m)\u001b[0m\u001b[0;34m\u001b[0m\u001b[0;34m\u001b[0m\u001b[0m\n\u001b[0m\u001b[1;32m   1335\u001b[0m     \u001b[0;32mexcept\u001b[0m \u001b[0merrors\u001b[0m\u001b[0;34m.\u001b[0m\u001b[0mOpError\u001b[0m \u001b[0;32mas\u001b[0m \u001b[0me\u001b[0m\u001b[0;34m:\u001b[0m\u001b[0;34m\u001b[0m\u001b[0;34m\u001b[0m\u001b[0m\n",
            "\u001b[0;32m/usr/local/lib/python3.6/dist-packages/tensorflow/python/client/session.py\u001b[0m in \u001b[0;36m_run_fn\u001b[0;34m(feed_dict, fetch_list, target_list, options, run_metadata)\u001b[0m\n\u001b[1;32m   1318\u001b[0m       return self._call_tf_sessionrun(\n\u001b[0;32m-> 1319\u001b[0;31m           options, feed_dict, fetch_list, target_list, run_metadata)\n\u001b[0m\u001b[1;32m   1320\u001b[0m \u001b[0;34m\u001b[0m\u001b[0m\n",
            "\u001b[0;32m/usr/local/lib/python3.6/dist-packages/tensorflow/python/client/session.py\u001b[0m in \u001b[0;36m_call_tf_sessionrun\u001b[0;34m(self, options, feed_dict, fetch_list, target_list, run_metadata)\u001b[0m\n\u001b[1;32m   1406\u001b[0m         \u001b[0mself\u001b[0m\u001b[0;34m.\u001b[0m\u001b[0m_session\u001b[0m\u001b[0;34m,\u001b[0m \u001b[0moptions\u001b[0m\u001b[0;34m,\u001b[0m \u001b[0mfeed_dict\u001b[0m\u001b[0;34m,\u001b[0m \u001b[0mfetch_list\u001b[0m\u001b[0;34m,\u001b[0m \u001b[0mtarget_list\u001b[0m\u001b[0;34m,\u001b[0m\u001b[0;34m\u001b[0m\u001b[0;34m\u001b[0m\u001b[0m\n\u001b[0;32m-> 1407\u001b[0;31m         run_metadata)\n\u001b[0m\u001b[1;32m   1408\u001b[0m \u001b[0;34m\u001b[0m\u001b[0m\n",
            "\u001b[0;31mFailedPreconditionError\u001b[0m: Attempting to use uninitialized value dense_9/kernel\n\t [[{{node dense_9/kernel/read}} = Identity[T=DT_FLOAT, _class=[\"loc:@dense_9/kernel\"], _device=\"/job:localhost/replica:0/task:0/device:GPU:0\"](dense_9/kernel)]]\n\t [[{{node Mean_8/_241}} = _Recv[client_terminated=false, recv_device=\"/job:localhost/replica:0/task:0/device:CPU:0\", send_device=\"/job:localhost/replica:0/task:0/device:GPU:0\", send_device_incarnation=1, tensor_name=\"edge_84_Mean_8\", tensor_type=DT_FLOAT, _device=\"/job:localhost/replica:0/task:0/device:CPU:0\"]()]]",
            "\nDuring handling of the above exception, another exception occurred:\n",
            "\u001b[0;31mFailedPreconditionError\u001b[0m                   Traceback (most recent call last)",
            "\u001b[0;32m<ipython-input-142-7e1bf5a0d4c8>\u001b[0m in \u001b[0;36m<module>\u001b[0;34m()\u001b[0m\n\u001b[1;32m      1\u001b[0m \u001b[0mgrader\u001b[0m\u001b[0;34m.\u001b[0m\u001b[0mset_answer\u001b[0m\u001b[0;34m(\u001b[0m\u001b[0;34m\"9XaAS\"\u001b[0m\u001b[0;34m,\u001b[0m \u001b[0mgrading_utils\u001b[0m\u001b[0;34m.\u001b[0m\u001b[0mget_tensors_shapes_string\u001b[0m\u001b[0;34m(\u001b[0m\u001b[0;34m[\u001b[0m\u001b[0mW\u001b[0m\u001b[0;34m,\u001b[0m \u001b[0mb\u001b[0m\u001b[0;34m,\u001b[0m \u001b[0minput_X\u001b[0m\u001b[0;34m,\u001b[0m \u001b[0minput_y\u001b[0m\u001b[0;34m,\u001b[0m \u001b[0mlogits\u001b[0m\u001b[0;34m,\u001b[0m \u001b[0mprobas\u001b[0m\u001b[0;34m,\u001b[0m \u001b[0mclasses\u001b[0m\u001b[0;34m]\u001b[0m\u001b[0;34m)\u001b[0m\u001b[0;34m)\u001b[0m\u001b[0;34m\u001b[0m\u001b[0;34m\u001b[0m\u001b[0m\n\u001b[1;32m      2\u001b[0m \u001b[0;31m# Validation loss\u001b[0m\u001b[0;34m\u001b[0m\u001b[0;34m\u001b[0m\u001b[0;34m\u001b[0m\u001b[0m\n\u001b[0;32m----> 3\u001b[0;31m \u001b[0mgrader\u001b[0m\u001b[0;34m.\u001b[0m\u001b[0mset_answer\u001b[0m\u001b[0;34m(\u001b[0m\u001b[0;34m\"vmogZ\"\u001b[0m\u001b[0;34m,\u001b[0m \u001b[0ms\u001b[0m\u001b[0;34m.\u001b[0m\u001b[0mrun\u001b[0m\u001b[0;34m(\u001b[0m\u001b[0mloss\u001b[0m\u001b[0;34m,\u001b[0m \u001b[0;34m{\u001b[0m\u001b[0minput_X\u001b[0m\u001b[0;34m:\u001b[0m \u001b[0mX_val_flat\u001b[0m\u001b[0;34m,\u001b[0m \u001b[0minput_y\u001b[0m\u001b[0;34m:\u001b[0m \u001b[0my_val_oh\u001b[0m\u001b[0;34m}\u001b[0m\u001b[0;34m)\u001b[0m\u001b[0;34m)\u001b[0m\u001b[0;34m\u001b[0m\u001b[0;34m\u001b[0m\u001b[0m\n\u001b[0m\u001b[1;32m      4\u001b[0m \u001b[0;31m# Validation accuracy\u001b[0m\u001b[0;34m\u001b[0m\u001b[0;34m\u001b[0m\u001b[0;34m\u001b[0m\u001b[0m\n\u001b[1;32m      5\u001b[0m \u001b[0mgrader\u001b[0m\u001b[0;34m.\u001b[0m\u001b[0mset_answer\u001b[0m\u001b[0;34m(\u001b[0m\u001b[0;34m\"RMv95\"\u001b[0m\u001b[0;34m,\u001b[0m \u001b[0maccuracy_score\u001b[0m\u001b[0;34m(\u001b[0m\u001b[0my_val\u001b[0m\u001b[0;34m,\u001b[0m \u001b[0ms\u001b[0m\u001b[0;34m.\u001b[0m\u001b[0mrun\u001b[0m\u001b[0;34m(\u001b[0m\u001b[0mclasses\u001b[0m\u001b[0;34m,\u001b[0m \u001b[0;34m{\u001b[0m\u001b[0minput_X\u001b[0m\u001b[0;34m:\u001b[0m \u001b[0mX_val_flat\u001b[0m\u001b[0;34m}\u001b[0m\u001b[0;34m)\u001b[0m\u001b[0;34m)\u001b[0m\u001b[0;34m)\u001b[0m\u001b[0;34m\u001b[0m\u001b[0;34m\u001b[0m\u001b[0m\n",
            "\u001b[0;32m/usr/local/lib/python3.6/dist-packages/tensorflow/python/client/session.py\u001b[0m in \u001b[0;36mrun\u001b[0;34m(self, fetches, feed_dict, options, run_metadata)\u001b[0m\n\u001b[1;32m    927\u001b[0m     \u001b[0;32mtry\u001b[0m\u001b[0;34m:\u001b[0m\u001b[0;34m\u001b[0m\u001b[0;34m\u001b[0m\u001b[0m\n\u001b[1;32m    928\u001b[0m       result = self._run(None, fetches, feed_dict, options_ptr,\n\u001b[0;32m--> 929\u001b[0;31m                          run_metadata_ptr)\n\u001b[0m\u001b[1;32m    930\u001b[0m       \u001b[0;32mif\u001b[0m \u001b[0mrun_metadata\u001b[0m\u001b[0;34m:\u001b[0m\u001b[0;34m\u001b[0m\u001b[0;34m\u001b[0m\u001b[0m\n\u001b[1;32m    931\u001b[0m         \u001b[0mproto_data\u001b[0m \u001b[0;34m=\u001b[0m \u001b[0mtf_session\u001b[0m\u001b[0;34m.\u001b[0m\u001b[0mTF_GetBuffer\u001b[0m\u001b[0;34m(\u001b[0m\u001b[0mrun_metadata_ptr\u001b[0m\u001b[0;34m)\u001b[0m\u001b[0;34m\u001b[0m\u001b[0;34m\u001b[0m\u001b[0m\n",
            "\u001b[0;32m/usr/local/lib/python3.6/dist-packages/tensorflow/python/client/session.py\u001b[0m in \u001b[0;36m_run\u001b[0;34m(self, handle, fetches, feed_dict, options, run_metadata)\u001b[0m\n\u001b[1;32m   1150\u001b[0m     \u001b[0;32mif\u001b[0m \u001b[0mfinal_fetches\u001b[0m \u001b[0;32mor\u001b[0m \u001b[0mfinal_targets\u001b[0m \u001b[0;32mor\u001b[0m \u001b[0;34m(\u001b[0m\u001b[0mhandle\u001b[0m \u001b[0;32mand\u001b[0m \u001b[0mfeed_dict_tensor\u001b[0m\u001b[0;34m)\u001b[0m\u001b[0;34m:\u001b[0m\u001b[0;34m\u001b[0m\u001b[0;34m\u001b[0m\u001b[0m\n\u001b[1;32m   1151\u001b[0m       results = self._do_run(handle, final_targets, final_fetches,\n\u001b[0;32m-> 1152\u001b[0;31m                              feed_dict_tensor, options, run_metadata)\n\u001b[0m\u001b[1;32m   1153\u001b[0m     \u001b[0;32melse\u001b[0m\u001b[0;34m:\u001b[0m\u001b[0;34m\u001b[0m\u001b[0;34m\u001b[0m\u001b[0m\n\u001b[1;32m   1154\u001b[0m       \u001b[0mresults\u001b[0m \u001b[0;34m=\u001b[0m \u001b[0;34m[\u001b[0m\u001b[0;34m]\u001b[0m\u001b[0;34m\u001b[0m\u001b[0;34m\u001b[0m\u001b[0m\n",
            "\u001b[0;32m/usr/local/lib/python3.6/dist-packages/tensorflow/python/client/session.py\u001b[0m in \u001b[0;36m_do_run\u001b[0;34m(self, handle, target_list, fetch_list, feed_dict, options, run_metadata)\u001b[0m\n\u001b[1;32m   1326\u001b[0m     \u001b[0;32mif\u001b[0m \u001b[0mhandle\u001b[0m \u001b[0;32mis\u001b[0m \u001b[0;32mNone\u001b[0m\u001b[0;34m:\u001b[0m\u001b[0;34m\u001b[0m\u001b[0;34m\u001b[0m\u001b[0m\n\u001b[1;32m   1327\u001b[0m       return self._do_call(_run_fn, feeds, fetches, targets, options,\n\u001b[0;32m-> 1328\u001b[0;31m                            run_metadata)\n\u001b[0m\u001b[1;32m   1329\u001b[0m     \u001b[0;32melse\u001b[0m\u001b[0;34m:\u001b[0m\u001b[0;34m\u001b[0m\u001b[0;34m\u001b[0m\u001b[0m\n\u001b[1;32m   1330\u001b[0m       \u001b[0;32mreturn\u001b[0m \u001b[0mself\u001b[0m\u001b[0;34m.\u001b[0m\u001b[0m_do_call\u001b[0m\u001b[0;34m(\u001b[0m\u001b[0m_prun_fn\u001b[0m\u001b[0;34m,\u001b[0m \u001b[0mhandle\u001b[0m\u001b[0;34m,\u001b[0m \u001b[0mfeeds\u001b[0m\u001b[0;34m,\u001b[0m \u001b[0mfetches\u001b[0m\u001b[0;34m)\u001b[0m\u001b[0;34m\u001b[0m\u001b[0;34m\u001b[0m\u001b[0m\n",
            "\u001b[0;32m/usr/local/lib/python3.6/dist-packages/tensorflow/python/client/session.py\u001b[0m in \u001b[0;36m_do_call\u001b[0;34m(self, fn, *args)\u001b[0m\n\u001b[1;32m   1346\u001b[0m           \u001b[0;32mpass\u001b[0m\u001b[0;34m\u001b[0m\u001b[0;34m\u001b[0m\u001b[0m\n\u001b[1;32m   1347\u001b[0m       \u001b[0mmessage\u001b[0m \u001b[0;34m=\u001b[0m \u001b[0merror_interpolation\u001b[0m\u001b[0;34m.\u001b[0m\u001b[0minterpolate\u001b[0m\u001b[0;34m(\u001b[0m\u001b[0mmessage\u001b[0m\u001b[0;34m,\u001b[0m \u001b[0mself\u001b[0m\u001b[0;34m.\u001b[0m\u001b[0m_graph\u001b[0m\u001b[0;34m)\u001b[0m\u001b[0;34m\u001b[0m\u001b[0;34m\u001b[0m\u001b[0m\n\u001b[0;32m-> 1348\u001b[0;31m       \u001b[0;32mraise\u001b[0m \u001b[0mtype\u001b[0m\u001b[0;34m(\u001b[0m\u001b[0me\u001b[0m\u001b[0;34m)\u001b[0m\u001b[0;34m(\u001b[0m\u001b[0mnode_def\u001b[0m\u001b[0;34m,\u001b[0m \u001b[0mop\u001b[0m\u001b[0;34m,\u001b[0m \u001b[0mmessage\u001b[0m\u001b[0;34m)\u001b[0m\u001b[0;34m\u001b[0m\u001b[0;34m\u001b[0m\u001b[0m\n\u001b[0m\u001b[1;32m   1349\u001b[0m \u001b[0;34m\u001b[0m\u001b[0m\n\u001b[1;32m   1350\u001b[0m   \u001b[0;32mdef\u001b[0m \u001b[0m_extend_graph\u001b[0m\u001b[0;34m(\u001b[0m\u001b[0mself\u001b[0m\u001b[0;34m)\u001b[0m\u001b[0;34m:\u001b[0m\u001b[0;34m\u001b[0m\u001b[0;34m\u001b[0m\u001b[0m\n",
            "\u001b[0;31mFailedPreconditionError\u001b[0m: Attempting to use uninitialized value dense_9/kernel\n\t [[node dense_9/kernel/read (defined at <ipython-input-141-1d892fa73fbf>:1)  = Identity[T=DT_FLOAT, _class=[\"loc:@dense_9/kernel\"], _device=\"/job:localhost/replica:0/task:0/device:GPU:0\"](dense_9/kernel)]]\n\t [[{{node Mean_8/_241}} = _Recv[client_terminated=false, recv_device=\"/job:localhost/replica:0/task:0/device:CPU:0\", send_device=\"/job:localhost/replica:0/task:0/device:GPU:0\", send_device_incarnation=1, tensor_name=\"edge_84_Mean_8\", tensor_type=DT_FLOAT, _device=\"/job:localhost/replica:0/task:0/device:CPU:0\"]()]]\n\nCaused by op 'dense_9/kernel/read', defined at:\n  File \"/usr/lib/python3.6/runpy.py\", line 193, in _run_module_as_main\n    \"__main__\", mod_spec)\n  File \"/usr/lib/python3.6/runpy.py\", line 85, in _run_code\n    exec(code, run_globals)\n  File \"/usr/local/lib/python3.6/dist-packages/ipykernel_launcher.py\", line 16, in <module>\n    app.launch_new_instance()\n  File \"/usr/local/lib/python3.6/dist-packages/traitlets/config/application.py\", line 658, in launch_instance\n    app.start()\n  File \"/usr/local/lib/python3.6/dist-packages/ipykernel/kernelapp.py\", line 477, in start\n    ioloop.IOLoop.instance().start()\n  File \"/usr/local/lib/python3.6/dist-packages/tornado/ioloop.py\", line 888, in start\n    handler_func(fd_obj, events)\n  File \"/usr/local/lib/python3.6/dist-packages/tornado/stack_context.py\", line 277, in null_wrapper\n    return fn(*args, **kwargs)\n  File \"/usr/local/lib/python3.6/dist-packages/zmq/eventloop/zmqstream.py\", line 450, in _handle_events\n    self._handle_recv()\n  File \"/usr/local/lib/python3.6/dist-packages/zmq/eventloop/zmqstream.py\", line 480, in _handle_recv\n    self._run_callback(callback, msg)\n  File \"/usr/local/lib/python3.6/dist-packages/zmq/eventloop/zmqstream.py\", line 432, in _run_callback\n    callback(*args, **kwargs)\n  File \"/usr/local/lib/python3.6/dist-packages/tornado/stack_context.py\", line 277, in null_wrapper\n    return fn(*args, **kwargs)\n  File \"/usr/local/lib/python3.6/dist-packages/ipykernel/kernelbase.py\", line 283, in dispatcher\n    return self.dispatch_shell(stream, msg)\n  File \"/usr/local/lib/python3.6/dist-packages/ipykernel/kernelbase.py\", line 235, in dispatch_shell\n    handler(stream, idents, msg)\n  File \"/usr/local/lib/python3.6/dist-packages/ipykernel/kernelbase.py\", line 399, in execute_request\n    user_expressions, allow_stdin)\n  File \"/usr/local/lib/python3.6/dist-packages/ipykernel/ipkernel.py\", line 196, in do_execute\n    res = shell.run_cell(code, store_history=store_history, silent=silent)\n  File \"/usr/local/lib/python3.6/dist-packages/ipykernel/zmqshell.py\", line 533, in run_cell\n    return super(ZMQInteractiveShell, self).run_cell(*args, **kwargs)\n  File \"/usr/local/lib/python3.6/dist-packages/IPython/core/interactiveshell.py\", line 2718, in run_cell\n    interactivity=interactivity, compiler=compiler, result=result)\n  File \"/usr/local/lib/python3.6/dist-packages/IPython/core/interactiveshell.py\", line 2822, in run_ast_nodes\n    if self.run_code(code, result):\n  File \"/usr/local/lib/python3.6/dist-packages/IPython/core/interactiveshell.py\", line 2882, in run_code\n    exec(code_obj, self.user_global_ns, self.user_ns)\n  File \"<ipython-input-141-1d892fa73fbf>\", line 1, in <module>\n    hidden1 = tf.layers.dense(input_X, 256, activation=tf.nn.sigmoid)\n  File \"/usr/local/lib/python3.6/dist-packages/tensorflow/python/layers/core.py\", line 184, in dense\n    return layer.apply(inputs)\n  File \"/usr/local/lib/python3.6/dist-packages/tensorflow/python/keras/engine/base_layer.py\", line 817, in apply\n    return self.__call__(inputs, *args, **kwargs)\n  File \"/usr/local/lib/python3.6/dist-packages/tensorflow/python/layers/base.py\", line 374, in __call__\n    outputs = super(Layer, self).__call__(inputs, *args, **kwargs)\n  File \"/usr/local/lib/python3.6/dist-packages/tensorflow/python/keras/engine/base_layer.py\", line 746, in __call__\n    self.build(input_shapes)\n  File \"/usr/local/lib/python3.6/dist-packages/tensorflow/python/keras/layers/core.py\", line 944, in build\n    trainable=True)\n  File \"/usr/local/lib/python3.6/dist-packages/tensorflow/python/layers/base.py\", line 288, in add_weight\n    getter=vs.get_variable)\n  File \"/usr/local/lib/python3.6/dist-packages/tensorflow/python/keras/engine/base_layer.py\", line 609, in add_weight\n    aggregation=aggregation)\n  File \"/usr/local/lib/python3.6/dist-packages/tensorflow/python/training/checkpointable/base.py\", line 639, in _add_variable_with_custom_getter\n    **kwargs_for_getter)\n  File \"/usr/local/lib/python3.6/dist-packages/tensorflow/python/ops/variable_scope.py\", line 1487, in get_variable\n    aggregation=aggregation)\n  File \"/usr/local/lib/python3.6/dist-packages/tensorflow/python/ops/variable_scope.py\", line 1237, in get_variable\n    aggregation=aggregation)\n  File \"/usr/local/lib/python3.6/dist-packages/tensorflow/python/ops/variable_scope.py\", line 540, in get_variable\n    aggregation=aggregation)\n  File \"/usr/local/lib/python3.6/dist-packages/tensorflow/python/ops/variable_scope.py\", line 492, in _true_getter\n    aggregation=aggregation)\n  File \"/usr/local/lib/python3.6/dist-packages/tensorflow/python/ops/variable_scope.py\", line 922, in _get_single_variable\n    aggregation=aggregation)\n  File \"/usr/local/lib/python3.6/dist-packages/tensorflow/python/ops/variables.py\", line 183, in __call__\n    return cls._variable_v1_call(*args, **kwargs)\n  File \"/usr/local/lib/python3.6/dist-packages/tensorflow/python/ops/variables.py\", line 146, in _variable_v1_call\n    aggregation=aggregation)\n  File \"/usr/local/lib/python3.6/dist-packages/tensorflow/python/ops/variables.py\", line 125, in <lambda>\n    previous_getter = lambda **kwargs: default_variable_creator(None, **kwargs)\n  File \"/usr/local/lib/python3.6/dist-packages/tensorflow/python/ops/variable_scope.py\", line 2444, in default_variable_creator\n    expected_shape=expected_shape, import_scope=import_scope)\n  File \"/usr/local/lib/python3.6/dist-packages/tensorflow/python/ops/variables.py\", line 187, in __call__\n    return super(VariableMetaclass, cls).__call__(*args, **kwargs)\n  File \"/usr/local/lib/python3.6/dist-packages/tensorflow/python/ops/variables.py\", line 1329, in __init__\n    constraint=constraint)\n  File \"/usr/local/lib/python3.6/dist-packages/tensorflow/python/ops/variables.py\", line 1491, in _init_from_args\n    self._snapshot = array_ops.identity(self._variable, name=\"read\")\n  File \"/usr/local/lib/python3.6/dist-packages/tensorflow/python/ops/array_ops.py\", line 81, in identity\n    return gen_array_ops.identity(input, name=name)\n  File \"/usr/local/lib/python3.6/dist-packages/tensorflow/python/ops/gen_array_ops.py\", line 3454, in identity\n    \"Identity\", input=input, name=name)\n  File \"/usr/local/lib/python3.6/dist-packages/tensorflow/python/framework/op_def_library.py\", line 787, in _apply_op_helper\n    op_def=op_def)\n  File \"/usr/local/lib/python3.6/dist-packages/tensorflow/python/util/deprecation.py\", line 488, in new_func\n    return func(*args, **kwargs)\n  File \"/usr/local/lib/python3.6/dist-packages/tensorflow/python/framework/ops.py\", line 3274, in create_op\n    op_def=op_def)\n  File \"/usr/local/lib/python3.6/dist-packages/tensorflow/python/framework/ops.py\", line 1770, in __init__\n    self._traceback = tf_stack.extract_stack()\n\nFailedPreconditionError (see above for traceback): Attempting to use uninitialized value dense_9/kernel\n\t [[node dense_9/kernel/read (defined at <ipython-input-141-1d892fa73fbf>:1)  = Identity[T=DT_FLOAT, _class=[\"loc:@dense_9/kernel\"], _device=\"/job:localhost/replica:0/task:0/device:GPU:0\"](dense_9/kernel)]]\n\t [[{{node Mean_8/_241}} = _Recv[client_terminated=false, recv_device=\"/job:localhost/replica:0/task:0/device:CPU:0\", send_device=\"/job:localhost/replica:0/task:0/device:GPU:0\", send_device_incarnation=1, tensor_name=\"edge_84_Mean_8\", tensor_type=DT_FLOAT, _device=\"/job:localhost/replica:0/task:0/device:CPU:0\"]()]]\n"
          ]
        }
      ]
    },
    {
      "metadata": {
        "id": "fOOGmcq2Ow9u",
        "colab_type": "code",
        "colab": {
          "base_uri": "https://localhost:8080/",
          "height": 34
        },
        "outputId": "26188b21-34f9-4623-d3c4-ba844c69f8e7"
      },
      "cell_type": "code",
      "source": [
        "# you can make submission with answers so far to check yourself at this stage\n",
        "grader.submit(COURSERA_EMAIL, COURSERA_TOKEN)"
      ],
      "execution_count": 132,
      "outputs": [
        {
          "output_type": "stream",
          "text": [
            "Submitted to Coursera platform. See results on assignment page!\n"
          ],
          "name": "stdout"
        }
      ]
    },
    {
      "metadata": {
        "id": "wOEJNgKlOw91",
        "colab_type": "text"
      },
      "cell_type": "markdown",
      "source": [
        "# MLP with hidden layers"
      ]
    },
    {
      "metadata": {
        "id": "EABSzFD0Ow92",
        "colab_type": "text"
      },
      "cell_type": "markdown",
      "source": [
        "Previously we've coded a dense layer with matrix multiplication by hand. \n",
        "But this is not convenient, you have to create a lot of variables and your code becomes a mess. \n",
        "In TensorFlow there's an easier way to make a dense layer:\n",
        "```python\n",
        "hidden1 = tf.layers.dense(inputs, 256, activation=tf.nn.sigmoid)\n",
        "```\n",
        "\n",
        "That will create all the necessary variables automatically.\n",
        "Here you can also choose an activation function (remember that we need it for a hidden layer!).\n",
        "\n",
        "Now define the MLP with 2 hidden layers and restart training with the cell above.\n",
        "\n",
        "You're aiming for ~0.97 validation accuracy here."
      ]
    },
    {
      "metadata": {
        "id": "32bjydLvOw95",
        "colab_type": "code",
        "colab": {}
      },
      "cell_type": "code",
      "source": [
        "# write the code here to get a new `step` operation and then run the cell with training loop above.\n",
        "# name your variables in the same way (e.g. logits, probas, classes, etc) for safety.\n",
        "### YOUR CODE HERE ###\n",
        "hidden1 = tf.layers.dense(input_X, 256, activation=tf.nn.sigmoid)\n",
        "\n",
        "hidden2 = tf.layers.dense(hidden1, 256, activation=tf.nn.sigmoid)\n",
        "\n",
        "logits = tf.layers.dense(hidden2, 10)\n",
        "\n",
        "probas = tf.nn.softmax(logits)\n",
        "\n",
        "classes = tf.argmax(probas, 1)\n",
        "\n",
        "loss = tf.reduce_mean(tf.nn.softmax_cross_entropy_with_logits_v2(logits = logits, labels = input_y))\n",
        "\n",
        "step = tf.train.AdamOptimizer().minimize(loss)"
      ],
      "execution_count": 0,
      "outputs": []
    },
    {
      "metadata": {
        "id": "It_I4c9kOw-B",
        "colab_type": "text"
      },
      "cell_type": "markdown",
      "source": [
        "# Submit the MLP with 2 hidden layers\n",
        "Run these cells after training the MLP with 2 hidden layers"
      ]
    },
    {
      "metadata": {
        "id": "UaRXuZasOw-F",
        "colab_type": "code",
        "colab": {}
      },
      "cell_type": "code",
      "source": [
        "## GRADED PART, DO NOT CHANGE!\n",
        "# Validation loss for MLP\n",
        "grader.set_answer(\"i8bgs\", s.run(loss, {input_X: X_val_flat, input_y: y_val_oh}))\n",
        "# Validation accuracy for MLP\n",
        "grader.set_answer(\"rE763\", accuracy_score(y_val, s.run(classes, {input_X: X_val_flat})))"
      ],
      "execution_count": 0,
      "outputs": []
    },
    {
      "metadata": {
        "id": "54mFLTBwOw-S",
        "colab_type": "code",
        "colab": {
          "base_uri": "https://localhost:8080/",
          "height": 34
        },
        "outputId": "f3b6c759-b182-4b0b-edc8-8801adfce88f"
      },
      "cell_type": "code",
      "source": [
        "# you can make submission with answers so far to check yourself at this stage\n",
        "grader.submit(COURSERA_EMAIL, COURSERA_TOKEN)"
      ],
      "execution_count": 160,
      "outputs": [
        {
          "output_type": "stream",
          "text": [
            "Submitted to Coursera platform. See results on assignment page!\n"
          ],
          "name": "stdout"
        }
      ]
    },
    {
      "metadata": {
        "id": "iA8EyvVgOw-a",
        "colab_type": "code",
        "colab": {}
      },
      "cell_type": "code",
      "source": [
        ""
      ],
      "execution_count": 0,
      "outputs": []
    }
  ]
}